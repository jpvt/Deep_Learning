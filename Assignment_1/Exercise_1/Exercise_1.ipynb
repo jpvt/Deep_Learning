{
 "cells": [
  {
   "cell_type": "markdown",
   "metadata": {},
   "source": [
    "# EXERCISE 1 - Deep Learning Class 2020.1\n",
    "**Professor** : Tiago Ugolino Maritan"
   ]
  },
  {
   "cell_type": "markdown",
   "metadata": {},
   "source": [
    "[![Open In Colab](https://colab.research.google.com/assets/colab-badge.svg)](https://colab.research.google.com/github/jpvt/Deep_Learning/blob/main/Assignment_1/Exercise_1/Exercise_1.ipynb)"
   ]
  },
  {
   "cell_type": "code",
   "execution_count": 1,
   "metadata": {},
   "outputs": [],
   "source": [
    "import numpy as np\n",
    "from data_generator import generate_data\n",
    "from tail_scratch_nn import DNN\n",
    "from sklearn.metrics import accuracy_score"
   ]
  },
  {
   "cell_type": "code",
   "execution_count": 2,
   "metadata": {},
   "outputs": [],
   "source": [
    "X_train, X_val, y_train, y_val = generate_data(5000)"
   ]
  },
  {
   "cell_type": "code",
   "execution_count": 3,
   "metadata": {},
   "outputs": [],
   "source": [
    "neural_network = DNN()"
   ]
  },
  {
   "cell_type": "code",
   "execution_count": 4,
   "metadata": {},
   "outputs": [
    {
     "data": {
      "text/plain": [
       "array([[ 0.0879,  1.0714,  0.9834],\n",
       "       [ 0.9043, -0.0716, -0.047 ],\n",
       "       [ 1.0225,  1.0406,  1.0011],\n",
       "       ...,\n",
       "       [-0.0069,  1.0936,  0.0603],\n",
       "       [ 1.0284, -0.0306,  0.9153],\n",
       "       [ 1.0636, -0.0551,  1.0474]], dtype=float128)"
      ]
     },
     "execution_count": 4,
     "metadata": {},
     "output_type": "execute_result"
    }
   ],
   "source": [
    "X_train.T"
   ]
  },
  {
   "cell_type": "code",
   "execution_count": 5,
   "metadata": {},
   "outputs": [
    {
     "data": {
      "text/plain": [
       "array([[0., 0., 0., ..., 0., 0., 0.],\n",
       "       [0., 0., 0., ..., 0., 0., 0.],\n",
       "       [0., 0., 0., ..., 0., 0., 1.],\n",
       "       ...,\n",
       "       [0., 0., 1., ..., 0., 0., 0.],\n",
       "       [0., 0., 0., ..., 1., 0., 0.],\n",
       "       [0., 0., 0., ..., 1., 0., 0.]], dtype=float128)"
      ]
     },
     "execution_count": 5,
     "metadata": {},
     "output_type": "execute_result"
    }
   ],
   "source": [
    "y_train.T"
   ]
  },
  {
   "cell_type": "code",
   "execution_count": 6,
   "metadata": {},
   "outputs": [
    {
     "data": {
      "text/plain": [
       "(3, 4500)"
      ]
     },
     "execution_count": 6,
     "metadata": {},
     "output_type": "execute_result"
    }
   ],
   "source": [
    "X_train.shape"
   ]
  },
  {
   "cell_type": "code",
   "execution_count": 7,
   "metadata": {},
   "outputs": [
    {
     "data": {
      "text/plain": [
       "(8, 4500)"
      ]
     },
     "execution_count": 7,
     "metadata": {},
     "output_type": "execute_result"
    }
   ],
   "source": [
    "y_train.shape"
   ]
  },
  {
   "cell_type": "code",
   "execution_count": 8,
   "metadata": {},
   "outputs": [
    {
     "data": {
      "text/plain": [
       "(3, 500)"
      ]
     },
     "execution_count": 8,
     "metadata": {},
     "output_type": "execute_result"
    }
   ],
   "source": [
    "X_val.shape"
   ]
  },
  {
   "cell_type": "code",
   "execution_count": 9,
   "metadata": {},
   "outputs": [
    {
     "data": {
      "text/plain": [
       "(8, 500)"
      ]
     },
     "execution_count": 9,
     "metadata": {},
     "output_type": "execute_result"
    }
   ],
   "source": [
    "y_val.shape"
   ]
  },
  {
   "cell_type": "code",
   "execution_count": 10,
   "metadata": {},
   "outputs": [],
   "source": [
    "neural_network.fit(X_train, y_train, X_val, y_val, hidden=\"relu\", output=\"softmax\")"
   ]
  },
  {
   "cell_type": "code",
   "execution_count": 11,
   "metadata": {
    "scrolled": false
   },
   "outputs": [
    {
     "name": "stdout",
     "output_type": "stream",
     "text": [
      "EPOCH 0 Train cost : 2.08074159 | val cost : 2.08018576\n",
      "EPOCH 4 Train cost : 1.55484254 | val cost : 1.55662259\n",
      "EPOCH 8 Train cost : 1.15677807 | val cost : 1.15094532\n",
      "EPOCH 12 Train cost : 0.86330447 | val cost : 0.85497432\n",
      "EPOCH 16 Train cost : 0.65188462 | val cost : 0.64354964\n",
      "EPOCH 20 Train cost : 0.49928835 | val cost : 0.49274848\n",
      "EPOCH 24 Train cost : 0.39098873 | val cost : 0.38663098\n",
      "EPOCH 28 Train cost : 0.31388832 | val cost : 0.31071809\n",
      "EPOCH 32 Train cost : 0.25825932 | val cost : 0.25557581\n",
      "EPOCH 36 Train cost : 0.21731958 | val cost : 0.21490906\n",
      "EPOCH 40 Train cost : 0.18643063 | val cost : 0.18422634\n",
      "EPOCH 44 Train cost : 0.16274121 | val cost : 0.16070281\n",
      "EPOCH 48 Train cost : 0.14421046 | val cost : 0.14228682\n",
      "EPOCH 52 Train cost : 0.129409 | val cost : 0.12754455\n",
      "EPOCH 56 Train cost : 0.11736955 | val cost : 0.11555476\n",
      "EPOCH 60 Train cost : 0.10737687 | val cost : 0.10564803\n",
      "EPOCH 64 Train cost : 0.09894948 | val cost : 0.09734254\n",
      "EPOCH 68 Train cost : 0.09174023 | val cost : 0.09025825\n",
      "EPOCH 72 Train cost : 0.08549253 | val cost : 0.08411259\n",
      "EPOCH 76 Train cost : 0.08001759 | val cost : 0.07871381\n",
      "EPOCH 80 Train cost : 0.07517275 | val cost : 0.07392995\n",
      "EPOCH 84 Train cost : 0.07084842 | val cost : 0.06966194\n",
      "EPOCH 88 Train cost : 0.0669597 | val cost : 0.06582829\n",
      "EPOCH 92 Train cost : 0.06344075 | val cost : 0.06236084\n",
      "EPOCH 96 Train cost : 0.06023896 | val cost : 0.05920373\n",
      "EPOCH 100 Train cost : 0.05731173 | val cost : 0.05631381\n",
      "EPOCH 104 Train cost : 0.05462445 | val cost : 0.05365894\n",
      "EPOCH 108 Train cost : 0.05214842 | val cost : 0.05121359\n",
      "EPOCH 112 Train cost : 0.0498595 | val cost : 0.04895538\n",
      "EPOCH 116 Train cost : 0.04773735 | val cost : 0.04686373\n",
      "EPOCH 120 Train cost : 0.04576461 | val cost : 0.04492018\n",
      "EPOCH 124 Train cost : 0.04392633 | val cost : 0.04310907\n",
      "EPOCH 128 Train cost : 0.04220956 | val cost : 0.0414175\n",
      "EPOCH 132 Train cost : 0.040603 | val cost : 0.03983468\n",
      "EPOCH 136 Train cost : 0.03909674 | val cost : 0.0383511\n",
      "EPOCH 140 Train cost : 0.03768203 | val cost : 0.03695814\n",
      "EPOCH 144 Train cost : 0.0363511 | val cost : 0.03564799\n",
      "EPOCH 148 Train cost : 0.03509706 | val cost : 0.03441367\n",
      "EPOCH 152 Train cost : 0.03391373 | val cost : 0.03324903\n",
      "EPOCH 156 Train cost : 0.03279558 | val cost : 0.03214858\n",
      "EPOCH 160 Train cost : 0.03173763 | val cost : 0.03110745\n",
      "EPOCH 164 Train cost : 0.03073538 | val cost : 0.03012124\n",
      "EPOCH 168 Train cost : 0.02978479 | val cost : 0.02918596\n",
      "EPOCH 172 Train cost : 0.02888216 | val cost : 0.02829798\n",
      "EPOCH 176 Train cost : 0.02802414 | val cost : 0.02745401\n",
      "EPOCH 180 Train cost : 0.02720769 | val cost : 0.02665103\n",
      "EPOCH 184 Train cost : 0.02643001 | val cost : 0.02588627\n",
      "EPOCH 188 Train cost : 0.02568857 | val cost : 0.02515723\n",
      "EPOCH 192 Train cost : 0.02498102 | val cost : 0.02446158\n",
      "EPOCH 196 Train cost : 0.02430522 | val cost : 0.02379723\n",
      "EPOCH 200 Train cost : 0.0236592 | val cost : 0.02316222\n",
      "EPOCH 204 Train cost : 0.02304115 | val cost : 0.02255477\n",
      "EPOCH 208 Train cost : 0.0224494 | val cost : 0.02197323\n",
      "EPOCH 212 Train cost : 0.02188238 | val cost : 0.02141607\n",
      "EPOCH 216 Train cost : 0.02133868 | val cost : 0.02088187\n",
      "EPOCH 220 Train cost : 0.02081696 | val cost : 0.02036932\n",
      "EPOCH 224 Train cost : 0.020316 | val cost : 0.01987722\n",
      "EPOCH 228 Train cost : 0.01983465 | val cost : 0.01940442\n",
      "EPOCH 232 Train cost : 0.01937186 | val cost : 0.0189499\n",
      "EPOCH 236 Train cost : 0.01892662 | val cost : 0.01851266\n",
      "EPOCH 240 Train cost : 0.01849803 | val cost : 0.01809179\n",
      "EPOCH 244 Train cost : 0.01808521 | val cost : 0.01768646\n",
      "EPOCH 248 Train cost : 0.01768736 | val cost : 0.01729587\n",
      "EPOCH 252 Train cost : 0.01730374 | val cost : 0.01691928\n",
      "EPOCH 256 Train cost : 0.01693364 | val cost : 0.01655598\n",
      "EPOCH 260 Train cost : 0.01657639 | val cost : 0.01620534\n",
      "EPOCH 264 Train cost : 0.01623139 | val cost : 0.01586674\n",
      "EPOCH 268 Train cost : 0.01589804 | val cost : 0.01553961\n",
      "EPOCH 272 Train cost : 0.0155758 | val cost : 0.01522341\n",
      "EPOCH 276 Train cost : 0.01526417 | val cost : 0.01491764\n",
      "EPOCH 280 Train cost : 0.01496265 | val cost : 0.01462182\n",
      "EPOCH 284 Train cost : 0.0146708 | val cost : 0.01433551\n",
      "EPOCH 288 Train cost : 0.01438817 | val cost : 0.01405827\n",
      "EPOCH 292 Train cost : 0.01411438 | val cost : 0.01378971\n",
      "EPOCH 296 Train cost : 0.01384903 | val cost : 0.01352946\n",
      "EPOCH 300 Train cost : 0.01359177 | val cost : 0.01327716\n",
      "EPOCH 304 Train cost : 0.01334225 | val cost : 0.01303247\n",
      "EPOCH 308 Train cost : 0.01310015 | val cost : 0.01279507\n",
      "EPOCH 312 Train cost : 0.01286516 | val cost : 0.01256467\n",
      "EPOCH 316 Train cost : 0.012637 | val cost : 0.01234097\n",
      "EPOCH 320 Train cost : 0.01241539 | val cost : 0.01212372\n",
      "EPOCH 324 Train cost : 0.01220007 | val cost : 0.01191264\n",
      "EPOCH 328 Train cost : 0.01199079 | val cost : 0.0117075\n",
      "EPOCH 332 Train cost : 0.01178732 | val cost : 0.01150807\n",
      "EPOCH 336 Train cost : 0.01158943 | val cost : 0.01131412\n",
      "EPOCH 340 Train cost : 0.01139692 | val cost : 0.01112545\n",
      "EPOCH 344 Train cost : 0.01120957 | val cost : 0.01094186\n",
      "EPOCH 348 Train cost : 0.0110272 | val cost : 0.01076316\n",
      "EPOCH 352 Train cost : 0.01084962 | val cost : 0.01058916\n",
      "EPOCH 356 Train cost : 0.01067666 | val cost : 0.01041971\n",
      "EPOCH 360 Train cost : 0.01050815 | val cost : 0.01025462\n",
      "EPOCH 364 Train cost : 0.01034394 | val cost : 0.01009375\n",
      "EPOCH 368 Train cost : 0.01018386 | val cost : 0.00993695\n",
      "EPOCH 372 Train cost : 0.01002778 | val cost : 0.00978407\n",
      "EPOCH 376 Train cost : 0.00987556 | val cost : 0.00963498\n",
      "EPOCH 380 Train cost : 0.00972707 | val cost : 0.00948954\n",
      "EPOCH 384 Train cost : 0.00958218 | val cost : 0.00934764\n",
      "EPOCH 388 Train cost : 0.00944076 | val cost : 0.00920916\n",
      "EPOCH 392 Train cost : 0.00930271 | val cost : 0.00907397\n",
      "EPOCH 396 Train cost : 0.0091679 | val cost : 0.00894198\n"
     ]
    },
    {
     "data": {
      "image/png": "[encoded data removed]",
      "text/plain": [
       "<Figure size 432x288 with 1 Axes>"
      ]
     },
     "metadata": {
      "needs_background": "light"
     },
     "output_type": "display_data"
    }
   ],
   "source": [
    "neural_network.train([X_train.shape[0], y_train.shape[0]], iterations=400, learning_rate=0.1, adam_optimizer=True)"
   ]
  },
  {
   "cell_type": "code",
   "execution_count": 12,
   "metadata": {},
   "outputs": [],
   "source": [
    "y_pred = neural_network.predict(X_val)"
   ]
  },
  {
   "cell_type": "code",
   "execution_count": 13,
   "metadata": {},
   "outputs": [
    {
     "data": {
      "text/plain": [
       "array([6, 2, 2, 7, 3, 5, 3, 7, 4, 3, 1, 5, 7, 6, 0, 4, 1, 6, 4, 1, 3, 6,\n",
       "       1, 7, 6, 1, 1, 6, 7, 2, 4, 2, 2, 5, 2, 3, 4, 5, 7, 6, 7, 1, 6, 6,\n",
       "       2, 0, 0, 5, 7, 4, 6, 4, 5, 2, 2, 0, 4, 6, 0, 6, 4, 5, 4, 4, 3, 3,\n",
       "       5, 6, 7, 1, 7, 1, 2, 4, 0, 5, 3, 7, 0, 1, 5, 4, 2, 5, 5, 4, 4, 3,\n",
       "       6, 2, 4, 3, 6, 3, 6, 2, 1, 5, 6, 0, 2, 3, 0, 6, 3, 3, 5, 4, 1, 4,\n",
       "       0, 7, 0, 6, 7, 4, 1, 7, 3, 3, 1, 7, 4, 6, 6, 2, 3, 7, 5, 0, 0, 7,\n",
       "       7, 4, 5, 6, 5, 7, 3, 7, 1, 1, 5, 4, 6, 4, 5, 3, 5, 7, 6, 3, 1, 5,\n",
       "       0, 3, 4, 7, 1, 2, 5, 1, 4, 2, 3, 2, 4, 7, 6, 7, 2, 2, 2, 5, 6, 5,\n",
       "       4, 2, 6, 6, 7, 2, 2, 1, 1, 1, 0, 0, 5, 2, 6, 2, 3, 1, 7, 3, 1, 2,\n",
       "       4, 1, 5, 0, 6, 6, 6, 6, 1, 0, 0, 5, 7, 6, 6, 2, 4, 2, 6, 4, 1, 5,\n",
       "       3, 0, 3, 0, 6, 2, 5, 1, 0, 4, 1, 4, 7, 3, 1, 2, 0, 4, 4, 7, 7, 1,\n",
       "       0, 3, 4, 3, 4, 1, 0, 2, 0, 1, 0, 3, 4, 7, 6, 7, 3, 6, 7, 4, 4, 6,\n",
       "       3, 1, 3, 7, 1, 1, 2, 2, 3, 4, 3, 3, 5, 3, 2, 1, 2, 2, 1, 7, 2, 4,\n",
       "       6, 5, 4, 0, 0, 3, 5, 6, 7, 4, 5, 2, 0, 1, 0, 4, 4, 3, 1, 7, 2, 1,\n",
       "       0, 6, 1, 6, 3, 5, 1, 5, 6, 6, 3, 2, 6, 5, 0, 5, 7, 1, 2, 2, 6, 4,\n",
       "       5, 1, 7, 6, 3, 7, 6, 3, 7, 3, 5, 3, 1, 5, 7, 6, 3, 3, 1, 1, 4, 0,\n",
       "       0, 5, 3, 3, 6, 7, 6, 4, 2, 6, 0, 0, 4, 6, 1, 0, 0, 5, 5, 1, 5, 7,\n",
       "       7, 4, 4, 1, 2, 3, 6, 2, 2, 6, 4, 1, 3, 2, 6, 7, 4, 2, 1, 7, 5, 4,\n",
       "       2, 4, 2, 3, 0, 3, 1, 6, 4, 4, 0, 2, 3, 6, 5, 4, 0, 1, 5, 5, 3, 2,\n",
       "       2, 3, 7, 0, 2, 4, 3, 0, 0, 7, 1, 5, 1, 6, 6, 6, 0, 5, 7, 5, 7, 2,\n",
       "       2, 2, 2, 3, 1, 7, 2, 4, 2, 7, 0, 2, 0, 7, 1, 6, 7, 1, 6, 6, 0, 4,\n",
       "       7, 0, 2, 7, 4, 1, 1, 5, 3, 7, 4, 0, 3, 4, 6, 4, 6, 7, 3, 3, 6, 6,\n",
       "       2, 0, 6, 6, 6, 1, 0, 3, 6, 4, 1, 4, 5, 4, 0, 3])"
      ]
     },
     "execution_count": 13,
     "metadata": {},
     "output_type": "execute_result"
    }
   ],
   "source": [
    "np.argmax(y_pred, axis = 0)"
   ]
  },
  {
   "cell_type": "code",
   "execution_count": 14,
   "metadata": {},
   "outputs": [
    {
     "data": {
      "text/plain": [
       "array([6, 2, 2, 7, 3, 5, 3, 7, 4, 3, 1, 5, 7, 6, 0, 4, 1, 6, 4, 1, 3, 6,\n",
       "       1, 7, 6, 1, 1, 6, 7, 2, 4, 2, 2, 5, 2, 3, 4, 5, 7, 6, 7, 1, 6, 6,\n",
       "       2, 0, 0, 5, 7, 4, 6, 4, 5, 2, 2, 0, 4, 6, 0, 6, 4, 5, 4, 4, 3, 3,\n",
       "       5, 6, 7, 1, 7, 1, 2, 4, 0, 5, 3, 7, 0, 1, 5, 4, 2, 5, 5, 4, 4, 3,\n",
       "       6, 2, 4, 3, 6, 3, 6, 2, 1, 5, 6, 0, 2, 3, 0, 6, 3, 3, 5, 4, 1, 4,\n",
       "       0, 7, 0, 6, 7, 4, 1, 7, 3, 3, 1, 7, 4, 6, 6, 2, 3, 7, 5, 0, 0, 7,\n",
       "       7, 4, 5, 6, 5, 7, 3, 7, 1, 1, 5, 4, 6, 4, 5, 3, 5, 7, 6, 3, 1, 5,\n",
       "       0, 3, 4, 7, 1, 2, 5, 1, 4, 2, 3, 2, 4, 7, 6, 7, 2, 2, 2, 5, 6, 5,\n",
       "       4, 2, 6, 6, 7, 2, 2, 1, 1, 1, 0, 0, 5, 2, 6, 2, 3, 1, 7, 3, 1, 2,\n",
       "       4, 1, 5, 0, 6, 6, 6, 6, 1, 0, 0, 5, 7, 6, 6, 2, 4, 2, 6, 4, 1, 5,\n",
       "       3, 0, 3, 0, 6, 2, 5, 1, 0, 4, 1, 4, 7, 3, 1, 2, 0, 4, 4, 7, 7, 1,\n",
       "       0, 3, 4, 3, 4, 1, 0, 2, 0, 1, 0, 3, 4, 7, 6, 7, 3, 6, 7, 4, 4, 6,\n",
       "       3, 1, 3, 7, 1, 1, 2, 2, 3, 4, 3, 3, 5, 3, 2, 1, 2, 2, 1, 7, 2, 4,\n",
       "       6, 5, 4, 0, 0, 3, 5, 6, 7, 4, 5, 2, 0, 1, 0, 4, 4, 3, 1, 7, 2, 1,\n",
       "       0, 6, 1, 6, 3, 5, 1, 5, 6, 6, 3, 2, 6, 5, 0, 5, 7, 1, 2, 2, 6, 4,\n",
       "       5, 1, 7, 6, 3, 7, 6, 3, 7, 3, 5, 3, 1, 5, 7, 6, 3, 3, 1, 1, 4, 0,\n",
       "       0, 5, 3, 3, 6, 7, 6, 4, 2, 6, 0, 0, 4, 6, 1, 0, 0, 5, 5, 1, 5, 7,\n",
       "       7, 4, 4, 1, 2, 3, 6, 2, 2, 6, 4, 1, 3, 2, 6, 7, 4, 2, 1, 7, 5, 4,\n",
       "       2, 4, 2, 3, 0, 3, 1, 6, 4, 4, 0, 2, 3, 6, 5, 4, 0, 1, 5, 5, 3, 2,\n",
       "       2, 3, 7, 0, 2, 4, 3, 0, 0, 7, 1, 5, 1, 6, 6, 6, 0, 5, 7, 5, 7, 2,\n",
       "       2, 2, 2, 3, 1, 7, 2, 4, 2, 7, 0, 2, 0, 7, 1, 6, 7, 1, 6, 6, 0, 4,\n",
       "       7, 0, 2, 7, 4, 1, 1, 5, 3, 7, 4, 0, 3, 4, 6, 4, 6, 7, 3, 3, 6, 6,\n",
       "       2, 0, 6, 6, 6, 1, 0, 3, 6, 4, 1, 4, 5, 4, 0, 3])"
      ]
     },
     "execution_count": 14,
     "metadata": {},
     "output_type": "execute_result"
    }
   ],
   "source": [
    "np.argmax(y_val, axis = 0)"
   ]
  },
  {
   "cell_type": "code",
   "execution_count": 15,
   "metadata": {},
   "outputs": [
    {
     "data": {
      "text/plain": [
       "1.0"
      ]
     },
     "execution_count": 15,
     "metadata": {},
     "output_type": "execute_result"
    }
   ],
   "source": [
    "accuracy_score(np.argmax(y_val, axis = 0), np.argmax(y_pred, axis = 0))"
   ]
  }
 ],
 "metadata": {
  "kernelspec": {
   "display_name": "Python 3",
   "language": "python",
   "name": "python3"
  },
  "language_info": {
   "codemirror_mode": {
    "name": "ipython",
    "version": 3
   },
   "file_extension": ".py",
   "mimetype": "text/x-python",
   "name": "python",
   "nbconvert_exporter": "python",
   "pygments_lexer": "ipython3",
   "version": "3.7.5"
  }
 },
 "nbformat": 4,
 "nbformat_minor": 2
}
