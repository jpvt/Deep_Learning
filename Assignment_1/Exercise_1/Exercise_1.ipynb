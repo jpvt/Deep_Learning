{
 "cells": [
  {
   "cell_type": "markdown",
   "metadata": {},
   "source": [
    "# EXERCISE 1 - Deep Learning Class 2020.1\n",
    "**Professor** : Tiago Ugolino Maritan"
   ]
  },
  {
   "cell_type": "markdown",
   "metadata": {},
   "source": [
    "[![Open In Colab](https://colab.research.google.com/assets/colab-badge.svg)](https://colab.research.google.com/github/jpvt/Deep_Learning/blob/main/Assignment_1/Exercise_1/Exercise_1.ipynb)"
   ]
  },
  {
   "cell_type": "code",
   "execution_count": 1,
   "metadata": {},
   "outputs": [],
   "source": [
    "import numpy as np\n",
    "from data_generator import generate_data\n",
    "from tail_scratch_nn import DNN\n",
    "from sklearn.metrics import accuracy_score, confusion_matrix"
   ]
  },
  {
   "cell_type": "code",
   "execution_count": 2,
   "metadata": {},
   "outputs": [],
   "source": [
    "X_train, X_val, y_train, y_val = generate_data(5000)"
   ]
  },
  {
   "cell_type": "code",
   "execution_count": 3,
   "metadata": {},
   "outputs": [],
   "source": [
    "neural_network = DNN()"
   ]
  },
  {
   "cell_type": "code",
   "execution_count": 4,
   "metadata": {},
   "outputs": [
    {
     "data": {
      "text/plain": [
       "array([[ 1.0882, -0.0193,  0.9633],\n",
       "       [ 0.9466,  0.9673,  0.0731],\n",
       "       [ 0.9651,  0.9756, -0.0414],\n",
       "       ...,\n",
       "       [ 0.9464,  0.0105,  0.9948],\n",
       "       [ 0.9654, -0.0042,  0.9147],\n",
       "       [-0.072 ,  0.0491,  0.0138]], dtype=float128)"
      ]
     },
     "execution_count": 4,
     "metadata": {},
     "output_type": "execute_result"
    }
   ],
   "source": [
    "X_train.T"
   ]
  },
  {
   "cell_type": "code",
   "execution_count": 5,
   "metadata": {},
   "outputs": [
    {
     "data": {
      "text/plain": [
       "array([[0., 0., 0., ..., 1., 0., 0.],\n",
       "       [0., 0., 0., ..., 0., 1., 0.],\n",
       "       [0., 0., 0., ..., 0., 1., 0.],\n",
       "       ...,\n",
       "       [0., 0., 0., ..., 1., 0., 0.],\n",
       "       [0., 0., 0., ..., 1., 0., 0.],\n",
       "       [1., 0., 0., ..., 0., 0., 0.]], dtype=float128)"
      ]
     },
     "execution_count": 5,
     "metadata": {},
     "output_type": "execute_result"
    }
   ],
   "source": [
    "y_train.T"
   ]
  },
  {
   "cell_type": "code",
   "execution_count": 6,
   "metadata": {},
   "outputs": [
    {
     "data": {
      "text/plain": [
       "(3, 4500)"
      ]
     },
     "execution_count": 6,
     "metadata": {},
     "output_type": "execute_result"
    }
   ],
   "source": [
    "X_train.shape"
   ]
  },
  {
   "cell_type": "code",
   "execution_count": 7,
   "metadata": {},
   "outputs": [
    {
     "data": {
      "text/plain": [
       "(8, 4500)"
      ]
     },
     "execution_count": 7,
     "metadata": {},
     "output_type": "execute_result"
    }
   ],
   "source": [
    "y_train.shape"
   ]
  },
  {
   "cell_type": "code",
   "execution_count": 8,
   "metadata": {},
   "outputs": [
    {
     "data": {
      "text/plain": [
       "(3, 500)"
      ]
     },
     "execution_count": 8,
     "metadata": {},
     "output_type": "execute_result"
    }
   ],
   "source": [
    "X_val.shape"
   ]
  },
  {
   "cell_type": "code",
   "execution_count": 9,
   "metadata": {},
   "outputs": [
    {
     "data": {
      "text/plain": [
       "(8, 500)"
      ]
     },
     "execution_count": 9,
     "metadata": {},
     "output_type": "execute_result"
    }
   ],
   "source": [
    "y_val.shape"
   ]
  },
  {
   "cell_type": "code",
   "execution_count": 17,
   "metadata": {},
   "outputs": [],
   "source": [
    "neural_network.fit(X_train, y_train, X_val, y_val, hidden=\"relu\", output=\"softmax\")"
   ]
  },
  {
   "cell_type": "code",
   "execution_count": 19,
   "metadata": {
    "scrolled": false
   },
   "outputs": [
    {
     "name": "stdout",
     "output_type": "stream",
     "text": [
      "EPOCH 0 Train cost : 2.08144008 | val cost : 2.08129438\n",
      "EPOCH 4 Train cost : 1.55828132 | val cost : 1.55259105\n",
      "EPOCH 8 Train cost : 1.1629841 | val cost : 1.15328007\n",
      "EPOCH 12 Train cost : 0.8699957 | val cost : 0.86144993\n",
      "EPOCH 16 Train cost : 0.65698372 | val cost : 0.65097903\n",
      "EPOCH 20 Train cost : 0.50301507 | val cost : 0.49971892\n",
      "EPOCH 24 Train cost : 0.39400146 | val cost : 0.39313773\n",
      "EPOCH 28 Train cost : 0.31628763 | val cost : 0.31658379\n",
      "EPOCH 32 Train cost : 0.26014476 | val cost : 0.2608819\n",
      "EPOCH 36 Train cost : 0.21859264 | val cost : 0.21947139\n",
      "EPOCH 40 Train cost : 0.18731774 | val cost : 0.18807187\n",
      "EPOCH 44 Train cost : 0.16340553 | val cost : 0.16398371\n",
      "EPOCH 48 Train cost : 0.14472169 | val cost : 0.14523261\n",
      "EPOCH 52 Train cost : 0.12981144 | val cost : 0.13032712\n",
      "EPOCH 56 Train cost : 0.11766949 | val cost : 0.11819296\n",
      "EPOCH 60 Train cost : 0.10759827 | val cost : 0.10812893\n",
      "EPOCH 64 Train cost : 0.09911258 | val cost : 0.09966224\n",
      "EPOCH 68 Train cost : 0.09186217 | val cost : 0.09242924\n",
      "EPOCH 72 Train cost : 0.08558505 | val cost : 0.08615286\n",
      "EPOCH 76 Train cost : 0.08008673 | val cost : 0.08064348\n",
      "EPOCH 80 Train cost : 0.07522262 | val cost : 0.07576639\n",
      "EPOCH 84 Train cost : 0.07088241 | val cost : 0.07141159\n",
      "EPOCH 88 Train cost : 0.06698092 | val cost : 0.06749061\n",
      "EPOCH 92 Train cost : 0.06345169 | val cost : 0.0639388\n",
      "EPOCH 96 Train cost : 0.06024174 | val cost : 0.06070809\n",
      "EPOCH 100 Train cost : 0.05730808 | val cost : 0.05775759\n",
      "EPOCH 104 Train cost : 0.05461557 | val cost : 0.05505074\n",
      "EPOCH 108 Train cost : 0.05213522 | val cost : 0.05255681\n",
      "EPOCH 112 Train cost : 0.04984278 | val cost : 0.05025133\n",
      "EPOCH 116 Train cost : 0.04771775 | val cost : 0.04811431\n",
      "EPOCH 120 Train cost : 0.04574265 | val cost : 0.04612828\n",
      "EPOCH 124 Train cost : 0.04390246 | val cost : 0.04427769\n",
      "EPOCH 128 Train cost : 0.04218417 | val cost : 0.04254917\n",
      "EPOCH 132 Train cost : 0.0405764 | val cost : 0.04093139\n",
      "EPOCH 136 Train cost : 0.03906919 | val cost : 0.0394146\n",
      "EPOCH 140 Train cost : 0.03765375 | val cost : 0.03799001\n",
      "EPOCH 144 Train cost : 0.03632228 | val cost : 0.03664973\n",
      "EPOCH 148 Train cost : 0.03506784 | val cost : 0.03538673\n",
      "EPOCH 152 Train cost : 0.03388426 | val cost : 0.03419482\n",
      "EPOCH 156 Train cost : 0.03276596 | val cost : 0.03306853\n",
      "EPOCH 160 Train cost : 0.03170796 | val cost : 0.0320029\n",
      "EPOCH 164 Train cost : 0.03070575 | val cost : 0.03099339\n",
      "EPOCH 168 Train cost : 0.02975526 | val cost : 0.0300359\n",
      "EPOCH 172 Train cost : 0.02885279 | val cost : 0.02912671\n",
      "EPOCH 176 Train cost : 0.02799498 | val cost : 0.02826243\n",
      "EPOCH 180 Train cost : 0.02717877 | val cost : 0.02744003\n",
      "EPOCH 184 Train cost : 0.02640138 | val cost : 0.02665668\n",
      "EPOCH 188 Train cost : 0.02566025 | val cost : 0.02590982\n",
      "EPOCH 192 Train cost : 0.02495304 | val cost : 0.02519709\n",
      "EPOCH 196 Train cost : 0.0242776 | val cost : 0.02451633\n",
      "EPOCH 200 Train cost : 0.02363196 | val cost : 0.02386556\n",
      "EPOCH 204 Train cost : 0.02301429 | val cost : 0.02324294\n",
      "EPOCH 208 Train cost : 0.02242293 | val cost : 0.0226468\n",
      "EPOCH 212 Train cost : 0.02185632 | val cost : 0.02207558\n",
      "EPOCH 216 Train cost : 0.02131302 | val cost : 0.02152782\n",
      "EPOCH 220 Train cost : 0.02079172 | val cost : 0.02100221\n",
      "EPOCH 224 Train cost : 0.02029117 | val cost : 0.0204975\n",
      "EPOCH 228 Train cost : 0.01981024 | val cost : 0.02001254\n",
      "EPOCH 232 Train cost : 0.01934786 | val cost : 0.01954625\n",
      "EPOCH 236 Train cost : 0.01890304 | val cost : 0.01909765\n",
      "EPOCH 240 Train cost : 0.01847485 | val cost : 0.01866581\n",
      "EPOCH 244 Train cost : 0.01806244 | val cost : 0.01824986\n",
      "EPOCH 248 Train cost : 0.01766501 | val cost : 0.01784898\n",
      "EPOCH 252 Train cost : 0.01728178 | val cost : 0.01746243\n",
      "EPOCH 256 Train cost : 0.01691208 | val cost : 0.01708949\n",
      "EPOCH 260 Train cost : 0.01655522 | val cost : 0.0167295\n",
      "EPOCH 264 Train cost : 0.0162106 | val cost : 0.01638184\n",
      "EPOCH 268 Train cost : 0.01587764 | val cost : 0.01604591\n",
      "EPOCH 272 Train cost : 0.01555578 | val cost : 0.01572118\n",
      "EPOCH 276 Train cost : 0.01524451 | val cost : 0.01540713\n",
      "EPOCH 280 Train cost : 0.01494336 | val cost : 0.01510326\n",
      "EPOCH 284 Train cost : 0.01465186 | val cost : 0.01480913\n",
      "EPOCH 288 Train cost : 0.01436959 | val cost : 0.01452429\n",
      "EPOCH 292 Train cost : 0.01409614 | val cost : 0.01424835\n",
      "EPOCH 296 Train cost : 0.01383113 | val cost : 0.01398091\n",
      "EPOCH 300 Train cost : 0.0135742 | val cost : 0.01372162\n",
      "EPOCH 304 Train cost : 0.01332501 | val cost : 0.01347012\n",
      "EPOCH 308 Train cost : 0.01308323 | val cost : 0.0132261\n",
      "EPOCH 312 Train cost : 0.01284856 | val cost : 0.01298924\n",
      "EPOCH 316 Train cost : 0.01262071 | val cost : 0.01275926\n",
      "EPOCH 320 Train cost : 0.0123994 | val cost : 0.01253588\n",
      "EPOCH 324 Train cost : 0.01218437 | val cost : 0.01231883\n",
      "EPOCH 328 Train cost : 0.01197539 | val cost : 0.01210787\n",
      "EPOCH 332 Train cost : 0.0117722 | val cost : 0.01190276\n",
      "EPOCH 336 Train cost : 0.01157459 | val cost : 0.01170327\n",
      "EPOCH 340 Train cost : 0.01138235 | val cost : 0.01150919\n",
      "EPOCH 344 Train cost : 0.01119527 | val cost : 0.01132032\n",
      "EPOCH 348 Train cost : 0.01101316 | val cost : 0.01113646\n",
      "EPOCH 352 Train cost : 0.01083584 | val cost : 0.01095743\n",
      "EPOCH 356 Train cost : 0.01066313 | val cost : 0.01078306\n",
      "EPOCH 360 Train cost : 0.01049487 | val cost : 0.01061316\n",
      "EPOCH 364 Train cost : 0.0103309 | val cost : 0.0104476\n",
      "EPOCH 368 Train cost : 0.01017106 | val cost : 0.0102862\n",
      "EPOCH 372 Train cost : 0.01001522 | val cost : 0.01012883\n",
      "EPOCH 376 Train cost : 0.00986322 | val cost : 0.00997535\n",
      "EPOCH 380 Train cost : 0.00971495 | val cost : 0.00982562\n",
      "EPOCH 384 Train cost : 0.00957028 | val cost : 0.00967951\n",
      "EPOCH 388 Train cost : 0.00942908 | val cost : 0.00953691\n",
      "EPOCH 392 Train cost : 0.00929123 | val cost : 0.0093977\n",
      "EPOCH 396 Train cost : 0.00915663 | val cost : 0.00926177\n"
     ]
    },
    {
     "data": {
      "image/png": "[encoded data removed]",
      "text/plain": [
       "<Figure size 432x288 with 1 Axes>"
      ]
     },
     "metadata": {
      "needs_background": "light"
     },
     "output_type": "display_data"
    }
   ],
   "source": [
    "neural_network.train([X_train.shape[0], y_train.shape[0]], iterations=400, learning_rate=0.1, adam_optimizer=True)"
   ]
  },
  {
   "cell_type": "code",
   "execution_count": 12,
   "metadata": {},
   "outputs": [],
   "source": [
    "y_pred = neural_network.predict(X_val)"
   ]
  },
  {
   "cell_type": "code",
   "execution_count": 13,
   "metadata": {},
   "outputs": [
    {
     "data": {
      "text/plain": [
       "array([0, 0, 2, 2, 3, 1, 2, 3, 7, 3, 4, 5, 1, 2, 6, 2, 1, 4, 0, 5, 3, 6,\n",
       "       7, 2, 5, 6, 0, 7, 5, 3, 1, 5, 3, 1, 4, 2, 1, 6, 2, 1, 5, 4, 3, 3,\n",
       "       5, 6, 0, 5, 4, 1, 3, 1, 5, 6, 7, 4, 3, 7, 5, 6, 6, 7, 3, 3, 4, 5,\n",
       "       5, 7, 7, 6, 2, 6, 0, 1, 5, 3, 6, 6, 0, 2, 2, 2, 0, 3, 7, 3, 5, 1,\n",
       "       6, 5, 3, 4, 3, 1, 7, 6, 6, 2, 7, 7, 1, 7, 1, 4, 2, 4, 6, 0, 2, 5,\n",
       "       2, 2, 3, 6, 2, 1, 6, 4, 5, 0, 3, 4, 2, 4, 4, 6, 1, 5, 5, 2, 3, 7,\n",
       "       7, 0, 4, 3, 4, 6, 1, 0, 7, 6, 3, 7, 4, 2, 6, 0, 1, 7, 4, 7, 2, 6,\n",
       "       1, 7, 4, 1, 4, 7, 4, 3, 2, 1, 1, 7, 4, 1, 6, 3, 6, 7, 2, 6, 1, 0,\n",
       "       4, 1, 5, 2, 7, 5, 5, 2, 5, 2, 6, 2, 5, 0, 0, 4, 5, 5, 6, 7, 3, 7,\n",
       "       0, 5, 4, 5, 2, 0, 3, 7, 6, 6, 6, 4, 3, 0, 4, 1, 4, 1, 2, 4, 3, 0,\n",
       "       6, 7, 0, 3, 4, 3, 5, 6, 4, 1, 4, 7, 6, 2, 0, 3, 3, 7, 0, 7, 4, 5,\n",
       "       4, 3, 4, 0, 1, 5, 1, 5, 1, 1, 4, 7, 4, 6, 3, 3, 0, 0, 1, 3, 6, 0,\n",
       "       4, 7, 2, 1, 7, 1, 1, 2, 1, 2, 2, 0, 3, 0, 5, 5, 2, 7, 7, 6, 7, 4,\n",
       "       5, 1, 6, 6, 0, 3, 3, 2, 6, 6, 4, 7, 2, 7, 6, 2, 6, 6, 5, 4, 4, 2,\n",
       "       4, 0, 4, 3, 5, 1, 3, 4, 2, 5, 0, 1, 7, 3, 2, 1, 0, 5, 6, 7, 0, 5,\n",
       "       7, 3, 1, 5, 0, 0, 5, 3, 2, 6, 4, 5, 7, 3, 4, 3, 7, 2, 3, 2, 1, 2,\n",
       "       1, 1, 6, 5, 5, 5, 3, 5, 7, 2, 5, 0, 7, 5, 6, 7, 1, 2, 4, 7, 6, 5,\n",
       "       5, 0, 0, 3, 7, 3, 6, 1, 2, 3, 2, 0, 4, 5, 6, 7, 6, 1, 4, 0, 2, 7,\n",
       "       0, 1, 0, 4, 7, 2, 7, 1, 5, 7, 1, 4, 4, 4, 5, 7, 3, 3, 5, 1, 3, 0,\n",
       "       2, 6, 7, 5, 5, 6, 5, 3, 7, 5, 3, 5, 1, 5, 0, 3, 1, 7, 2, 0, 1, 4,\n",
       "       7, 5, 4, 2, 4, 0, 1, 6, 2, 0, 7, 2, 7, 6, 4, 3, 7, 2, 2, 7, 6, 1,\n",
       "       1, 5, 7, 4, 0, 6, 7, 4, 3, 5, 1, 5, 1, 4, 2, 5, 4, 7, 1, 1, 6, 5,\n",
       "       4, 2, 2, 3, 3, 1, 2, 5, 3, 6, 4, 2, 2, 4, 0, 7])"
      ]
     },
     "execution_count": 13,
     "metadata": {},
     "output_type": "execute_result"
    }
   ],
   "source": [
    "np.argmax(y_pred, axis = 0)"
   ]
  },
  {
   "cell_type": "code",
   "execution_count": 14,
   "metadata": {},
   "outputs": [
    {
     "data": {
      "text/plain": [
       "array([0, 0, 2, 2, 3, 1, 2, 3, 7, 3, 4, 5, 1, 2, 6, 2, 1, 4, 0, 5, 3, 6,\n",
       "       7, 2, 5, 6, 0, 7, 5, 3, 1, 5, 3, 1, 4, 2, 1, 6, 2, 1, 5, 4, 3, 3,\n",
       "       5, 6, 0, 5, 4, 1, 3, 1, 5, 6, 7, 4, 3, 7, 5, 6, 6, 7, 3, 3, 4, 5,\n",
       "       5, 7, 7, 6, 2, 6, 0, 1, 5, 3, 6, 6, 0, 2, 2, 2, 0, 3, 7, 3, 5, 1,\n",
       "       6, 5, 3, 4, 3, 1, 7, 6, 6, 2, 7, 7, 1, 7, 1, 4, 2, 4, 6, 0, 2, 5,\n",
       "       2, 2, 3, 6, 2, 1, 6, 4, 5, 0, 3, 4, 2, 4, 4, 6, 1, 5, 5, 2, 3, 7,\n",
       "       7, 0, 4, 3, 4, 6, 1, 0, 7, 6, 3, 7, 4, 2, 6, 0, 1, 7, 4, 7, 2, 6,\n",
       "       1, 7, 4, 1, 4, 7, 4, 3, 2, 1, 1, 7, 4, 1, 6, 3, 6, 7, 2, 6, 1, 0,\n",
       "       4, 1, 5, 2, 7, 5, 5, 2, 5, 2, 6, 2, 5, 0, 0, 4, 5, 5, 6, 7, 3, 7,\n",
       "       0, 5, 4, 5, 2, 0, 3, 7, 6, 6, 6, 4, 3, 0, 4, 1, 4, 1, 2, 4, 3, 0,\n",
       "       6, 7, 0, 3, 4, 3, 5, 6, 4, 1, 4, 7, 6, 2, 0, 3, 3, 7, 0, 7, 4, 5,\n",
       "       4, 3, 4, 0, 1, 5, 1, 5, 1, 1, 4, 7, 4, 6, 3, 3, 0, 0, 1, 3, 6, 0,\n",
       "       4, 7, 2, 1, 7, 1, 1, 2, 1, 2, 2, 0, 3, 0, 5, 5, 2, 7, 7, 6, 7, 4,\n",
       "       5, 1, 6, 6, 0, 3, 3, 2, 6, 6, 4, 7, 2, 7, 6, 2, 6, 6, 5, 4, 4, 2,\n",
       "       4, 0, 4, 3, 5, 1, 3, 4, 2, 5, 0, 1, 7, 3, 2, 1, 0, 5, 6, 7, 0, 5,\n",
       "       7, 3, 1, 5, 0, 0, 5, 3, 2, 6, 4, 5, 7, 3, 4, 3, 7, 2, 3, 2, 1, 2,\n",
       "       1, 1, 6, 5, 5, 5, 3, 5, 7, 2, 5, 0, 7, 5, 6, 7, 1, 2, 4, 7, 6, 5,\n",
       "       5, 0, 0, 3, 7, 3, 6, 1, 2, 3, 2, 0, 4, 5, 6, 7, 6, 1, 4, 0, 2, 7,\n",
       "       0, 1, 0, 4, 7, 2, 7, 1, 5, 7, 1, 4, 4, 4, 5, 7, 3, 3, 5, 1, 3, 0,\n",
       "       2, 6, 7, 5, 5, 6, 5, 3, 7, 5, 3, 5, 1, 5, 0, 3, 1, 7, 2, 0, 1, 4,\n",
       "       7, 5, 4, 2, 4, 0, 1, 6, 2, 0, 7, 2, 7, 6, 4, 3, 7, 2, 2, 7, 6, 1,\n",
       "       1, 5, 7, 4, 0, 6, 7, 4, 3, 5, 1, 5, 1, 4, 2, 5, 4, 7, 1, 1, 6, 5,\n",
       "       4, 2, 2, 3, 3, 1, 2, 5, 3, 6, 4, 2, 2, 4, 0, 7])"
      ]
     },
     "execution_count": 14,
     "metadata": {},
     "output_type": "execute_result"
    }
   ],
   "source": [
    "np.argmax(y_val, axis = 0)"
   ]
  },
  {
   "cell_type": "code",
   "execution_count": 15,
   "metadata": {},
   "outputs": [
    {
     "data": {
      "text/plain": [
       "1.0"
      ]
     },
     "execution_count": 15,
     "metadata": {},
     "output_type": "execute_result"
    }
   ],
   "source": [
    "accuracy_score(np.argmax(y_val, axis = 0), np.argmax(y_pred, axis = 0))"
   ]
  },
  {
   "cell_type": "code",
   "execution_count": 16,
   "metadata": {},
   "outputs": [
    {
     "data": {
      "text/plain": [
       "array([[50,  0,  0,  0,  0,  0,  0,  0],\n",
       "       [ 0, 63,  0,  0,  0,  0,  0,  0],\n",
       "       [ 0,  0, 65,  0,  0,  0,  0,  0],\n",
       "       [ 0,  0,  0, 62,  0,  0,  0,  0],\n",
       "       [ 0,  0,  0,  0, 65,  0,  0,  0],\n",
       "       [ 0,  0,  0,  0,  0, 68,  0,  0],\n",
       "       [ 0,  0,  0,  0,  0,  0, 60,  0],\n",
       "       [ 0,  0,  0,  0,  0,  0,  0, 67]])"
      ]
     },
     "execution_count": 16,
     "metadata": {},
     "output_type": "execute_result"
    }
   ],
   "source": [
    "confusion_matrix(np.argmax(y_val, axis = 0), np.argmax(y_pred, axis = 0))"
   ]
  }
 ],
 "metadata": {
  "kernelspec": {
   "display_name": "Python 3",
   "language": "python",
   "name": "python3"
  },
  "language_info": {
   "codemirror_mode": {
    "name": "ipython",
    "version": 3
   },
   "file_extension": ".py",
   "mimetype": "text/x-python",
   "name": "python",
   "nbconvert_exporter": "python",
   "pygments_lexer": "ipython3",
   "version": "3.7.5"
  }
 },
 "nbformat": 4,
 "nbformat_minor": 2
}
