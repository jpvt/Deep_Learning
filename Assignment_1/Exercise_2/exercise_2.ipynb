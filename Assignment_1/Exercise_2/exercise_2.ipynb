{
 "cells": [
  {
   "cell_type": "markdown",
   "metadata": {},
   "source": [
    "# First Assignment - Exercise 2\n",
    "\n",
    "\n",
    "Implement a multilayer perceptron network and use it to approximate the two functions below. Then, compare the results with the exact curves. In the case of problem (b), show the average training error curve concerning the number of seasons and the average error curve with the validation set.\n",
    "\n",
    "- **(a)** the XOR logic function\n",
    "- **(b)** $f(x) = \\sin(\\pi x)/\\pi x, 0 < x \\le 4$\n",
    "\n",
    "\n",
    "**Hint:** Select a set of samples for each function (where x is the input and f (x) is the desired output - label). Then, split these samples into training and validation sets. Subsequently, train a multilayer perceptron so that it learns to approach the function from the training sample and tests with the validation set."
   ]
  },
  {
   "cell_type": "code",
   "execution_count": 62,
   "metadata": {},
   "outputs": [],
   "source": [
    "from tail_scratch_nn import DNN\n",
    "from sklearn.metrics import accuracy_score, r2_score\n",
    "import numpy as np\n",
    "from data_generator import DataGenerator, f\n",
    "import matplotlib.pyplot as plt"
   ]
  },
  {
   "cell_type": "markdown",
   "metadata": {},
   "source": [
    "## Problem (a)"
   ]
  },
  {
   "cell_type": "code",
   "execution_count": 2,
   "metadata": {},
   "outputs": [
    {
     "name": "stdout",
     "output_type": "stream",
     "text": [
      "[0 0] => [1 0]\n",
      "[0 1] => [0 1]\n",
      "[1 0] => [0 1]\n",
      "[1 1] => [1 0]\n"
     ]
    }
   ],
   "source": [
    "generator =  DataGenerator()\n",
    "X_train, X_test, y_train, y_test = generator.generate_problem_A()"
   ]
  },
  {
   "cell_type": "code",
   "execution_count": 3,
   "metadata": {},
   "outputs": [],
   "source": [
    "neural_net = DNN()\n",
    "neural_net.fit(X_train.T, y_train.T, X_test.T, y_test.T,hidden = 'relu', output = 'softmax')"
   ]
  },
  {
   "cell_type": "code",
   "execution_count": 4,
   "metadata": {},
   "outputs": [
    {
     "data": {
      "text/plain": [
       "array([[0, 0, 1, 1],\n",
       "       [0, 1, 0, 1]])"
      ]
     },
     "execution_count": 4,
     "metadata": {},
     "output_type": "execute_result"
    }
   ],
   "source": [
    "X_train.T"
   ]
  },
  {
   "cell_type": "code",
   "execution_count": 5,
   "metadata": {},
   "outputs": [
    {
     "data": {
      "text/plain": [
       "array([[1, 0, 0, 1],\n",
       "       [0, 1, 1, 0]])"
      ]
     },
     "execution_count": 5,
     "metadata": {},
     "output_type": "execute_result"
    }
   ],
   "source": [
    "y_train.T"
   ]
  },
  {
   "cell_type": "code",
   "execution_count": 6,
   "metadata": {},
   "outputs": [
    {
     "name": "stdout",
     "output_type": "stream",
     "text": [
      "EPOCH 0 Train cost : 0.69312578 | val cost : 0.69312578\n",
      "EPOCH 3 Train cost : 0.69307004 | val cost : 0.69307004\n",
      "EPOCH 6 Train cost : 0.69276368 | val cost : 0.69276368\n",
      "EPOCH 9 Train cost : 0.69232103 | val cost : 0.69232103\n",
      "EPOCH 12 Train cost : 0.69189965 | val cost : 0.69189965\n",
      "EPOCH 15 Train cost : 0.69128346 | val cost : 0.69128346\n",
      "EPOCH 18 Train cost : 0.69029423 | val cost : 0.69029423\n",
      "EPOCH 21 Train cost : 0.68844757 | val cost : 0.68844757\n",
      "EPOCH 24 Train cost : 0.68591881 | val cost : 0.68591881\n",
      "EPOCH 27 Train cost : 0.6824883 | val cost : 0.6824883\n",
      "EPOCH 30 Train cost : 0.67824974 | val cost : 0.67824974\n",
      "EPOCH 33 Train cost : 0.67310708 | val cost : 0.67310708\n",
      "EPOCH 36 Train cost : 0.66732749 | val cost : 0.66732749\n",
      "EPOCH 39 Train cost : 0.66064324 | val cost : 0.66064324\n",
      "EPOCH 42 Train cost : 0.65319946 | val cost : 0.65319946\n",
      "EPOCH 45 Train cost : 0.64500394 | val cost : 0.64500394\n",
      "EPOCH 48 Train cost : 0.63626762 | val cost : 0.63626762\n",
      "EPOCH 51 Train cost : 0.62629538 | val cost : 0.62629538\n",
      "EPOCH 54 Train cost : 0.61524756 | val cost : 0.61524756\n",
      "EPOCH 57 Train cost : 0.60343727 | val cost : 0.60343727\n",
      "EPOCH 60 Train cost : 0.59174279 | val cost : 0.59174279\n",
      "EPOCH 63 Train cost : 0.57894331 | val cost : 0.57894331\n",
      "EPOCH 66 Train cost : 0.56541388 | val cost : 0.56541388\n",
      "EPOCH 69 Train cost : 0.55242848 | val cost : 0.55242848\n",
      "EPOCH 72 Train cost : 0.53792642 | val cost : 0.53792642\n",
      "EPOCH 75 Train cost : 0.52319046 | val cost : 0.52319046\n",
      "EPOCH 78 Train cost : 0.50828044 | val cost : 0.50828044\n",
      "EPOCH 81 Train cost : 0.49310559 | val cost : 0.49310559\n",
      "EPOCH 84 Train cost : 0.47787426 | val cost : 0.47787426\n",
      "EPOCH 87 Train cost : 0.46286481 | val cost : 0.46286481\n",
      "EPOCH 90 Train cost : 0.44829921 | val cost : 0.44829921\n",
      "EPOCH 93 Train cost : 0.43408514 | val cost : 0.43408514\n",
      "EPOCH 96 Train cost : 0.41961892 | val cost : 0.41961892\n",
      "EPOCH 99 Train cost : 0.40520994 | val cost : 0.40520994\n",
      "EPOCH 102 Train cost : 0.39192595 | val cost : 0.39192595\n",
      "EPOCH 105 Train cost : 0.378088 | val cost : 0.378088\n",
      "EPOCH 108 Train cost : 0.36501294 | val cost : 0.36501294\n",
      "EPOCH 111 Train cost : 0.35246617 | val cost : 0.35246617\n",
      "EPOCH 114 Train cost : 0.33935039 | val cost : 0.33935039\n",
      "EPOCH 117 Train cost : 0.32809811 | val cost : 0.32809811\n",
      "EPOCH 120 Train cost : 0.31635022 | val cost : 0.31635022\n",
      "EPOCH 123 Train cost : 0.30467175 | val cost : 0.30467175\n",
      "EPOCH 126 Train cost : 0.29338346 | val cost : 0.29338346\n",
      "EPOCH 129 Train cost : 0.28260525 | val cost : 0.28260525\n",
      "EPOCH 132 Train cost : 0.27235712 | val cost : 0.27235712\n",
      "EPOCH 135 Train cost : 0.26260736 | val cost : 0.26260736\n",
      "EPOCH 138 Train cost : 0.25329273 | val cost : 0.25329273\n",
      "EPOCH 141 Train cost : 0.24434101 | val cost : 0.24434101\n",
      "EPOCH 144 Train cost : 0.23569888 | val cost : 0.23569888\n",
      "EPOCH 147 Train cost : 0.22735033 | val cost : 0.22735033\n",
      "EPOCH 150 Train cost : 0.21931415 | val cost : 0.21931415\n",
      "EPOCH 153 Train cost : 0.21162273 | val cost : 0.21162273\n",
      "EPOCH 156 Train cost : 0.20429496 | val cost : 0.20429496\n",
      "EPOCH 159 Train cost : 0.1973212 | val cost : 0.1973212\n",
      "EPOCH 162 Train cost : 0.1906678 | val cost : 0.1906678\n",
      "EPOCH 165 Train cost : 0.18429537 | val cost : 0.18429537\n",
      "EPOCH 168 Train cost : 0.17817666 | val cost : 0.17817666\n",
      "EPOCH 171 Train cost : 0.17230254 | val cost : 0.17230254\n",
      "EPOCH 174 Train cost : 0.16667484 | val cost : 0.16667484\n",
      "EPOCH 177 Train cost : 0.16129468 | val cost : 0.16129468\n",
      "EPOCH 180 Train cost : 0.15615556 | val cost : 0.15615556\n",
      "EPOCH 183 Train cost : 0.15124387 | val cost : 0.15124387\n",
      "EPOCH 186 Train cost : 0.14654349 | val cost : 0.14654349\n",
      "EPOCH 189 Train cost : 0.14203999 | val cost : 0.14203999\n",
      "EPOCH 192 Train cost : 0.13772223 | val cost : 0.13772223\n",
      "EPOCH 195 Train cost : 0.13358191 | val cost : 0.13358191\n",
      "EPOCH 198 Train cost : 0.12961209 | val cost : 0.12961209\n",
      "EPOCH 201 Train cost : 0.12580608 | val cost : 0.12580608\n",
      "EPOCH 204 Train cost : 0.12215687 | val cost : 0.12215687\n",
      "EPOCH 207 Train cost : 0.11865712 | val cost : 0.11865712\n",
      "EPOCH 210 Train cost : 0.11529947 | val cost : 0.11529947\n",
      "EPOCH 213 Train cost : 0.11207676 | val cost : 0.11207676\n",
      "EPOCH 216 Train cost : 0.10898224 | val cost : 0.10898224\n",
      "EPOCH 219 Train cost : 0.10600958 | val cost : 0.10600958\n",
      "EPOCH 222 Train cost : 0.10315287 | val cost : 0.10315287\n",
      "EPOCH 225 Train cost : 0.10040658 | val cost : 0.10040658\n",
      "EPOCH 228 Train cost : 0.0977655 | val cost : 0.0977655\n",
      "EPOCH 231 Train cost : 0.09522468 | val cost : 0.09522468\n",
      "EPOCH 234 Train cost : 0.09277946 | val cost : 0.09277946\n",
      "EPOCH 237 Train cost : 0.0904254 | val cost : 0.0904254\n",
      "EPOCH 240 Train cost : 0.0881583 | val cost : 0.0881583\n",
      "EPOCH 243 Train cost : 0.08597416 | val cost : 0.08597416\n",
      "EPOCH 246 Train cost : 0.08386917 | val cost : 0.08386917\n",
      "EPOCH 249 Train cost : 0.08183974 | val cost : 0.08183974\n",
      "EPOCH 252 Train cost : 0.07988247 | val cost : 0.07988247\n",
      "EPOCH 255 Train cost : 0.07799411 | val cost : 0.07799411\n",
      "EPOCH 258 Train cost : 0.0761716 | val cost : 0.0761716\n",
      "EPOCH 261 Train cost : 0.07441201 | val cost : 0.07441201\n",
      "EPOCH 264 Train cost : 0.07271259 | val cost : 0.07271259\n",
      "EPOCH 267 Train cost : 0.07107072 | val cost : 0.07107072\n",
      "EPOCH 270 Train cost : 0.06948391 | val cost : 0.06948391\n",
      "EPOCH 273 Train cost : 0.06794979 | val cost : 0.06794979\n",
      "EPOCH 276 Train cost : 0.06646612 | val cost : 0.06646612\n",
      "EPOCH 279 Train cost : 0.06503076 | val cost : 0.06503076\n",
      "EPOCH 282 Train cost : 0.0636417 | val cost : 0.0636417\n",
      "EPOCH 285 Train cost : 0.06229699 | val cost : 0.06229699\n",
      "EPOCH 288 Train cost : 0.06099481 | val cost : 0.06099481\n",
      "EPOCH 291 Train cost : 0.0597334 | val cost : 0.0597334\n",
      "EPOCH 294 Train cost : 0.05851112 | val cost : 0.05851112\n",
      "EPOCH 297 Train cost : 0.0573264 | val cost : 0.0573264\n"
     ]
    },
    {
     "data": {
      "image/png": "[encoded data removed]",
      "text/plain": [
       "<Figure size 432x288 with 1 Axes>"
      ]
     },
     "metadata": {
      "needs_background": "light"
     },
     "output_type": "display_data"
    }
   ],
   "source": [
    "N_ENTRADA = 2\n",
    "N_SAIDA = 2\n",
    "\n",
    "neural_net.train([N_ENTRADA,10, N_SAIDA], learning_rate=0.01, iterations=300, adam_optimizer=True)"
   ]
  },
  {
   "cell_type": "code",
   "execution_count": 7,
   "metadata": {},
   "outputs": [
    {
     "data": {
      "text/plain": [
       "array([0, 1, 1, 0])"
      ]
     },
     "execution_count": 7,
     "metadata": {},
     "output_type": "execute_result"
    }
   ],
   "source": [
    "y_pred = neural_net.predict(X_test.T).T\n",
    "np.argmax(y_pred, axis = 1)"
   ]
  },
  {
   "cell_type": "code",
   "execution_count": 8,
   "metadata": {},
   "outputs": [
    {
     "data": {
      "text/plain": [
       "array([0, 1, 1, 0])"
      ]
     },
     "execution_count": 8,
     "metadata": {},
     "output_type": "execute_result"
    }
   ],
   "source": [
    "np.argmax(y_test, axis = 1)"
   ]
  },
  {
   "cell_type": "code",
   "execution_count": 9,
   "metadata": {},
   "outputs": [
    {
     "data": {
      "text/plain": [
       "1.0"
      ]
     },
     "execution_count": 9,
     "metadata": {},
     "output_type": "execute_result"
    }
   ],
   "source": [
    "accuracy_score(np.argmax(y_pred, axis = 1), np.argmax(y_test, axis = 1))"
   ]
  },
  {
   "cell_type": "markdown",
   "metadata": {},
   "source": [
    "## Problem (B)"
   ]
  },
  {
   "cell_type": "code",
   "execution_count": 25,
   "metadata": {},
   "outputs": [],
   "source": [
    "from tensorflow.keras.models import Sequential\n",
    "from tensorflow.keras.layers import Dense"
   ]
  },
  {
   "cell_type": "code",
   "execution_count": 56,
   "metadata": {},
   "outputs": [],
   "source": [
    "generator =  DataGenerator()\n",
    "X_train_B, X_test_B, y_train_B, y_test_B = generator.generate_problem_B(50000, 0.2)"
   ]
  },
  {
   "cell_type": "code",
   "execution_count": 57,
   "metadata": {},
   "outputs": [],
   "source": [
    "\n",
    "model = Sequential()\n",
    "model.add(Dense(10, input_shape=(1,), activation='relu'))\n",
    "model.add(Dense(5, activation='relu'))\n",
    "model.add(Dense(1, activation='linear'))"
   ]
  },
  {
   "cell_type": "code",
   "execution_count": 59,
   "metadata": {},
   "outputs": [
    {
     "name": "stdout",
     "output_type": "stream",
     "text": [
      "Train on 32000 samples, validate on 8000 samples\n",
      "Epoch 1/50\n",
      "32000/32000 [==============================] - 0s 15us/sample - loss: 0.0564 - mean_squared_error: 0.0061 - val_loss: 0.0554 - val_mean_squared_error: 0.0061\n",
      "Epoch 2/50\n",
      "32000/32000 [==============================] - 0s 12us/sample - loss: 0.0564 - mean_squared_error: 0.0061 - val_loss: 0.0555 - val_mean_squared_error: 0.0059\n",
      "Epoch 3/50\n",
      "32000/32000 [==============================] - 0s 12us/sample - loss: 0.0564 - mean_squared_error: 0.0061 - val_loss: 0.0553 - val_mean_squared_error: 0.0059\n",
      "Epoch 4/50\n",
      "32000/32000 [==============================] - 0s 11us/sample - loss: 0.0564 - mean_squared_error: 0.0061 - val_loss: 0.0553 - val_mean_squared_error: 0.0060\n",
      "Epoch 5/50\n",
      "32000/32000 [==============================] - 0s 12us/sample - loss: 0.0565 - mean_squared_error: 0.0061 - val_loss: 0.0556 - val_mean_squared_error: 0.0059\n",
      "Epoch 6/50\n",
      "32000/32000 [==============================] - 0s 12us/sample - loss: 0.0564 - mean_squared_error: 0.0061 - val_loss: 0.0554 - val_mean_squared_error: 0.0060\n",
      "Epoch 7/50\n",
      "32000/32000 [==============================] - 0s 12us/sample - loss: 0.0564 - mean_squared_error: 0.0061 - val_loss: 0.0555 - val_mean_squared_error: 0.0059\n",
      "Epoch 8/50\n",
      "32000/32000 [==============================] - 0s 12us/sample - loss: 0.0563 - mean_squared_error: 0.0061 - val_loss: 0.0554 - val_mean_squared_error: 0.0059\n",
      "Epoch 9/50\n",
      "32000/32000 [==============================] - 0s 12us/sample - loss: 0.0564 - mean_squared_error: 0.0061 - val_loss: 0.0553 - val_mean_squared_error: 0.0059\n",
      "Epoch 10/50\n",
      "32000/32000 [==============================] - 0s 12us/sample - loss: 0.0564 - mean_squared_error: 0.0061 - val_loss: 0.0553 - val_mean_squared_error: 0.0059\n",
      "Epoch 11/50\n",
      "32000/32000 [==============================] - 0s 12us/sample - loss: 0.0564 - mean_squared_error: 0.0061 - val_loss: 0.0553 - val_mean_squared_error: 0.0059\n",
      "Epoch 12/50\n",
      "32000/32000 [==============================] - 0s 12us/sample - loss: 0.0564 - mean_squared_error: 0.0061 - val_loss: 0.0554 - val_mean_squared_error: 0.0059\n",
      "Epoch 13/50\n",
      "32000/32000 [==============================] - 0s 12us/sample - loss: 0.0564 - mean_squared_error: 0.0061 - val_loss: 0.0553 - val_mean_squared_error: 0.0059\n",
      "Epoch 14/50\n",
      "32000/32000 [==============================] - 0s 12us/sample - loss: 0.0564 - mean_squared_error: 0.0061 - val_loss: 0.0553 - val_mean_squared_error: 0.0060\n",
      "Epoch 15/50\n",
      "32000/32000 [==============================] - 0s 12us/sample - loss: 0.0558 - mean_squared_error: 0.0060 - val_loss: 0.0530 - val_mean_squared_error: 0.0053\n",
      "Epoch 16/50\n",
      "32000/32000 [==============================] - 0s 12us/sample - loss: 0.0503 - mean_squared_error: 0.0047 - val_loss: 0.0474 - val_mean_squared_error: 0.0040\n",
      "Epoch 17/50\n",
      "32000/32000 [==============================] - 0s 12us/sample - loss: 0.0461 - mean_squared_error: 0.0037 - val_loss: 0.0442 - val_mean_squared_error: 0.0034\n",
      "Epoch 18/50\n",
      "32000/32000 [==============================] - 0s 12us/sample - loss: 0.0437 - mean_squared_error: 0.0033 - val_loss: 0.0425 - val_mean_squared_error: 0.0032\n",
      "Epoch 19/50\n",
      "32000/32000 [==============================] - 0s 12us/sample - loss: 0.0425 - mean_squared_error: 0.0032 - val_loss: 0.0417 - val_mean_squared_error: 0.0031\n",
      "Epoch 20/50\n",
      "32000/32000 [==============================] - 0s 12us/sample - loss: 0.0418 - mean_squared_error: 0.0031 - val_loss: 0.0414 - val_mean_squared_error: 0.0031\n",
      "Epoch 21/50\n",
      "32000/32000 [==============================] - 0s 12us/sample - loss: 0.0414 - mean_squared_error: 0.0031 - val_loss: 0.0413 - val_mean_squared_error: 0.0032\n",
      "Epoch 22/50\n",
      "32000/32000 [==============================] - 0s 12us/sample - loss: 0.0412 - mean_squared_error: 0.0032 - val_loss: 0.0408 - val_mean_squared_error: 0.0030\n",
      "Epoch 23/50\n",
      "32000/32000 [==============================] - 0s 12us/sample - loss: 0.0411 - mean_squared_error: 0.0032 - val_loss: 0.0414 - val_mean_squared_error: 0.0031\n",
      "Epoch 24/50\n",
      "32000/32000 [==============================] - 0s 12us/sample - loss: 0.0410 - mean_squared_error: 0.0032 - val_loss: 0.0407 - val_mean_squared_error: 0.0031\n",
      "Epoch 25/50\n",
      "32000/32000 [==============================] - 0s 12us/sample - loss: 0.0411 - mean_squared_error: 0.0032 - val_loss: 0.0407 - val_mean_squared_error: 0.0031\n",
      "Epoch 26/50\n",
      "32000/32000 [==============================] - 0s 12us/sample - loss: 0.0410 - mean_squared_error: 0.0032 - val_loss: 0.0407 - val_mean_squared_error: 0.0032\n",
      "Epoch 27/50\n",
      "32000/32000 [==============================] - 0s 11us/sample - loss: 0.0410 - mean_squared_error: 0.0032 - val_loss: 0.0407 - val_mean_squared_error: 0.0032\n",
      "Epoch 28/50\n",
      "32000/32000 [==============================] - 0s 12us/sample - loss: 0.0410 - mean_squared_error: 0.0033 - val_loss: 0.0407 - val_mean_squared_error: 0.0032\n",
      "Epoch 29/50\n",
      "32000/32000 [==============================] - 0s 12us/sample - loss: 0.0410 - mean_squared_error: 0.0032 - val_loss: 0.0411 - val_mean_squared_error: 0.0032\n",
      "Epoch 30/50\n",
      "32000/32000 [==============================] - 0s 12us/sample - loss: 0.0410 - mean_squared_error: 0.0032 - val_loss: 0.0407 - val_mean_squared_error: 0.0033\n",
      "Epoch 31/50\n",
      "32000/32000 [==============================] - 0s 12us/sample - loss: 0.0410 - mean_squared_error: 0.0032 - val_loss: 0.0411 - val_mean_squared_error: 0.0034\n",
      "Epoch 32/50\n",
      "32000/32000 [==============================] - 0s 12us/sample - loss: 0.0410 - mean_squared_error: 0.0032 - val_loss: 0.0407 - val_mean_squared_error: 0.0033\n",
      "Epoch 33/50\n",
      "32000/32000 [==============================] - 0s 12us/sample - loss: 0.0410 - mean_squared_error: 0.0032 - val_loss: 0.0408 - val_mean_squared_error: 0.0032\n",
      "Epoch 34/50\n",
      "32000/32000 [==============================] - 0s 12us/sample - loss: 0.0410 - mean_squared_error: 0.0032 - val_loss: 0.0408 - val_mean_squared_error: 0.0033\n",
      "Epoch 35/50\n",
      "32000/32000 [==============================] - 0s 12us/sample - loss: 0.0410 - mean_squared_error: 0.0033 - val_loss: 0.0407 - val_mean_squared_error: 0.0032\n",
      "Epoch 36/50\n",
      "32000/32000 [==============================] - 0s 12us/sample - loss: 0.0410 - mean_squared_error: 0.0033 - val_loss: 0.0406 - val_mean_squared_error: 0.0032\n",
      "Epoch 37/50\n",
      "32000/32000 [==============================] - 0s 12us/sample - loss: 0.0410 - mean_squared_error: 0.0033 - val_loss: 0.0408 - val_mean_squared_error: 0.0032\n",
      "Epoch 38/50\n",
      "32000/32000 [==============================] - 0s 12us/sample - loss: 0.0410 - mean_squared_error: 0.0032 - val_loss: 0.0407 - val_mean_squared_error: 0.0031\n",
      "Epoch 39/50\n",
      "32000/32000 [==============================] - 0s 12us/sample - loss: 0.0409 - mean_squared_error: 0.0032 - val_loss: 0.0409 - val_mean_squared_error: 0.0033\n",
      "Epoch 40/50\n",
      "32000/32000 [==============================] - 0s 12us/sample - loss: 0.0410 - mean_squared_error: 0.0033 - val_loss: 0.0407 - val_mean_squared_error: 0.0031\n",
      "Epoch 41/50\n",
      "32000/32000 [==============================] - 0s 12us/sample - loss: 0.0410 - mean_squared_error: 0.0032 - val_loss: 0.0410 - val_mean_squared_error: 0.0033\n",
      "Epoch 42/50\n",
      "32000/32000 [==============================] - 0s 11us/sample - loss: 0.0410 - mean_squared_error: 0.0032 - val_loss: 0.0415 - val_mean_squared_error: 0.0032\n",
      "Epoch 43/50\n",
      "32000/32000 [==============================] - 0s 12us/sample - loss: 0.0410 - mean_squared_error: 0.0032 - val_loss: 0.0407 - val_mean_squared_error: 0.0032\n",
      "Epoch 44/50\n",
      "32000/32000 [==============================] - 0s 12us/sample - loss: 0.0410 - mean_squared_error: 0.0033 - val_loss: 0.0407 - val_mean_squared_error: 0.0033\n",
      "Epoch 45/50\n",
      "32000/32000 [==============================] - 0s 12us/sample - loss: 0.0410 - mean_squared_error: 0.0033 - val_loss: 0.0407 - val_mean_squared_error: 0.0033\n",
      "Epoch 46/50\n",
      "32000/32000 [==============================] - 0s 12us/sample - loss: 0.0409 - mean_squared_error: 0.0033 - val_loss: 0.0411 - val_mean_squared_error: 0.0033\n",
      "Epoch 47/50\n",
      "32000/32000 [==============================] - 0s 12us/sample - loss: 0.0409 - mean_squared_error: 0.0033 - val_loss: 0.0409 - val_mean_squared_error: 0.0032\n",
      "Epoch 48/50\n",
      "32000/32000 [==============================] - 0s 12us/sample - loss: 0.0410 - mean_squared_error: 0.0032 - val_loss: 0.0407 - val_mean_squared_error: 0.0032\n",
      "Epoch 49/50\n",
      "32000/32000 [==============================] - 0s 12us/sample - loss: 0.0409 - mean_squared_error: 0.0033 - val_loss: 0.0408 - val_mean_squared_error: 0.0031\n",
      "Epoch 50/50\n",
      "32000/32000 [==============================] - 0s 12us/sample - loss: 0.0410 - mean_squared_error: 0.0032 - val_loss: 0.0408 - val_mean_squared_error: 0.0033\n"
     ]
    }
   ],
   "source": [
    "model.compile(loss='mean_absolute_error', optimizer='adam', metrics=['mean_squared_error'])\n",
    "hist = model.fit(X_train_B, y_train_B, epochs=50, batch_size=64, verbose=1, validation_split=0.2)"
   ]
  },
  {
   "cell_type": "code",
   "execution_count": 60,
   "metadata": {},
   "outputs": [
    {
     "data": {
      "text/plain": [
       "<matplotlib.legend.Legend at 0x7f8a080d6410>"
      ]
     },
     "execution_count": 60,
     "metadata": {},
     "output_type": "execute_result"
    },
    {
     "data": {
      "image/png": "[encoded data removed]",
      "text/plain": [
       "<Figure size 432x288 with 1 Axes>"
      ]
     },
     "metadata": {
      "needs_background": "light"
     },
     "output_type": "display_data"
    }
   ],
   "source": [
    "plt.plot(hist.history[\"loss\"], label=\"loss\")\n",
    "plt.plot(hist.history[\"val_loss\"], label=\"val_loss\")\n",
    "plt.legend()"
   ]
  },
  {
   "cell_type": "code",
   "execution_count": 67,
   "metadata": {},
   "outputs": [
    {
     "name": "stdout",
     "output_type": "stream",
     "text": [
      "Acurácia: 95.9%\n"
     ]
    }
   ],
   "source": [
    "y_pred = model.predict(X_test_B)\n",
    "print(f'Acurácia: {round(r2_score(y_test_B, y_pred)*100,1)}%')"
   ]
  },
  {
   "cell_type": "code",
   "execution_count": null,
   "metadata": {},
   "outputs": [],
   "source": []
  }
 ],
 "metadata": {
  "kernelspec": {
   "display_name": "Python 3",
   "language": "python",
   "name": "python3"
  },
  "language_info": {
   "codemirror_mode": {
    "name": "ipython",
    "version": 3
   },
   "file_extension": ".py",
   "mimetype": "text/x-python",
   "name": "python",
   "nbconvert_exporter": "python",
   "pygments_lexer": "ipython3",
   "version": "3.7.6"
  }
 },
 "nbformat": 4,
 "nbformat_minor": 4
}
