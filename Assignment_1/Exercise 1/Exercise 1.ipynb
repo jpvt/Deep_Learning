{
 "cells": [
  {
   "cell_type": "code",
   "execution_count": 20,
   "metadata": {},
   "outputs": [],
   "source": [
    "import numpy as np\n",
    "from data_generator import generate_data\n",
    "from tail_scratch_nn import DNN\n",
    "from sklearn.metrics import accuracy_score"
   ]
  },
  {
   "cell_type": "code",
   "execution_count": 21,
   "metadata": {},
   "outputs": [],
   "source": [
    "X_train, X_val, y_train, y_val = generate_data(5000)"
   ]
  },
  {
   "cell_type": "code",
   "execution_count": 22,
   "metadata": {},
   "outputs": [],
   "source": [
    "neural_network = DNN()"
   ]
  },
  {
   "cell_type": "code",
   "execution_count": 29,
   "metadata": {},
   "outputs": [
    {
     "data": {
      "text/plain": [
       "array([[ 0.9899, -0.04  ,  0.9721, ...,  1.0911,  1.006 ,  0.9542],\n",
       "       [ 0.9479,  0.9209,  0.9898, ...,  0.0161,  0.9957,  1.0278],\n",
       "       [ 1.0425,  1.0717,  0.9677, ...,  0.0518,  0.9854,  0.0232]],\n",
       "      dtype=float128)"
      ]
     },
     "execution_count": 29,
     "metadata": {},
     "output_type": "execute_result"
    }
   ],
   "source": [
    "X_train"
   ]
  },
  {
   "cell_type": "code",
   "execution_count": 25,
   "metadata": {},
   "outputs": [
    {
     "data": {
      "text/plain": [
       "(3, 4500)"
      ]
     },
     "execution_count": 25,
     "metadata": {},
     "output_type": "execute_result"
    }
   ],
   "source": [
    "X_train.shape"
   ]
  },
  {
   "cell_type": "code",
   "execution_count": 26,
   "metadata": {},
   "outputs": [
    {
     "data": {
      "text/plain": [
       "(8, 4500)"
      ]
     },
     "execution_count": 26,
     "metadata": {},
     "output_type": "execute_result"
    }
   ],
   "source": [
    "y_train.shape"
   ]
  },
  {
   "cell_type": "code",
   "execution_count": 27,
   "metadata": {},
   "outputs": [
    {
     "data": {
      "text/plain": [
       "(3, 500)"
      ]
     },
     "execution_count": 27,
     "metadata": {},
     "output_type": "execute_result"
    }
   ],
   "source": [
    "X_val.shape"
   ]
  },
  {
   "cell_type": "code",
   "execution_count": 28,
   "metadata": {},
   "outputs": [
    {
     "data": {
      "text/plain": [
       "(8, 500)"
      ]
     },
     "execution_count": 28,
     "metadata": {},
     "output_type": "execute_result"
    }
   ],
   "source": [
    "y_val.shape"
   ]
  },
  {
   "cell_type": "code",
   "execution_count": 23,
   "metadata": {},
   "outputs": [],
   "source": [
    "neural_network.fit(X_train, y_train, X_val, y_val, hidden=\"relu\", output=\"softmax\")"
   ]
  },
  {
   "cell_type": "code",
   "execution_count": 24,
   "metadata": {
    "scrolled": false
   },
   "outputs": [
    {
     "name": "stdout",
     "output_type": "stream",
     "text": [
      "EPOCH 0 Train cost : 2.0796769 | val cost : 2.08006077\n",
      "EPOCH 4 Train cost : 1.55953817 | val cost : 1.55658644\n",
      "EPOCH 8 Train cost : 1.16284987 | val cost : 1.14857811\n",
      "EPOCH 12 Train cost : 0.8706376 | val cost : 0.85448477\n",
      "EPOCH 16 Train cost : 0.65657657 | val cost : 0.64217161\n",
      "EPOCH 20 Train cost : 0.50249728 | val cost : 0.49271685\n",
      "EPOCH 24 Train cost : 0.39323483 | val cost : 0.38644801\n",
      "EPOCH 28 Train cost : 0.31570102 | val cost : 0.31011619\n",
      "EPOCH 32 Train cost : 0.25957439 | val cost : 0.25482202\n",
      "EPOCH 36 Train cost : 0.21803832 | val cost : 0.21388523\n",
      "EPOCH 40 Train cost : 0.18681245 | val cost : 0.18302953\n",
      "EPOCH 44 Train cost : 0.16294055 | val cost : 0.15934779\n",
      "EPOCH 48 Train cost : 0.14431028 | val cost : 0.14087529\n",
      "EPOCH 52 Train cost : 0.12944093 | val cost : 0.12623219\n",
      "EPOCH 56 Train cost : 0.1173276 | val cost : 0.11437005\n",
      "EPOCH 60 Train cost : 0.10728269 | val cost : 0.10456533\n",
      "EPOCH 64 Train cost : 0.09882163 | val cost : 0.09633344\n",
      "EPOCH 68 Train cost : 0.09159285 | val cost : 0.08930007\n",
      "EPOCH 72 Train cost : 0.0853349 | val cost : 0.08318853\n",
      "EPOCH 76 Train cost : 0.07985375 | val cost : 0.07782208\n",
      "EPOCH 80 Train cost : 0.07500455 | val cost : 0.07307371\n",
      "EPOCH 84 Train cost : 0.07067742 | val cost : 0.06883619\n",
      "EPOCH 88 Train cost : 0.0667878 | val cost : 0.06502586\n",
      "EPOCH 92 Train cost : 0.06326939 | val cost : 0.06158006\n",
      "EPOCH 96 Train cost : 0.06006924 | val cost : 0.0584471\n",
      "EPOCH 100 Train cost : 0.05714449 | val cost : 0.05558394\n",
      "EPOCH 104 Train cost : 0.05446014 | val cost : 0.05295693\n",
      "EPOCH 108 Train cost : 0.05198727 | val cost : 0.05053873\n",
      "EPOCH 112 Train cost : 0.04970169 | val cost : 0.04830542\n",
      "EPOCH 116 Train cost : 0.04758299 | val cost : 0.04623628\n",
      "EPOCH 120 Train cost : 0.04561375 | val cost : 0.04431399\n",
      "EPOCH 124 Train cost : 0.04377901 | val cost : 0.04252361\n",
      "EPOCH 128 Train cost : 0.04206577 | val cost : 0.04085191\n",
      "EPOCH 132 Train cost : 0.04046272 | val cost : 0.03928754\n",
      "EPOCH 136 Train cost : 0.03895991 | val cost : 0.0378209\n",
      "EPOCH 140 Train cost : 0.03754859 | val cost : 0.03644368\n",
      "EPOCH 144 Train cost : 0.03622099 | val cost : 0.03514836\n",
      "EPOCH 148 Train cost : 0.03497019 | val cost : 0.03392815\n",
      "EPOCH 152 Train cost : 0.03379002 | val cost : 0.03277702\n",
      "EPOCH 156 Train cost : 0.03267494 | val cost : 0.03168958\n",
      "EPOCH 160 Train cost : 0.03161998 | val cost : 0.03066097\n",
      "EPOCH 164 Train cost : 0.03062064 | val cost : 0.02968676\n",
      "EPOCH 168 Train cost : 0.02967287 | val cost : 0.02876295\n",
      "EPOCH 172 Train cost : 0.02877297 | val cost : 0.02788594\n",
      "EPOCH 176 Train cost : 0.02791761 | val cost : 0.02705247\n",
      "EPOCH 180 Train cost : 0.02710372 | val cost : 0.02625956\n",
      "EPOCH 184 Train cost : 0.02632854 | val cost : 0.02550449\n",
      "EPOCH 188 Train cost : 0.0255895 | val cost : 0.02478475\n",
      "EPOCH 192 Train cost : 0.02488429 | val cost : 0.02409807\n",
      "EPOCH 196 Train cost : 0.02421076 | val cost : 0.02344232\n",
      "EPOCH 200 Train cost : 0.02356693 | val cost : 0.02281559\n",
      "EPOCH 204 Train cost : 0.02295101 | val cost : 0.02221609\n",
      "EPOCH 208 Train cost : 0.0223613 | val cost : 0.0216422\n",
      "EPOCH 212 Train cost : 0.02179628 | val cost : 0.0210924\n",
      "EPOCH 216 Train cost : 0.02125451 | val cost : 0.02056529\n",
      "EPOCH 220 Train cost : 0.02073467 | val cost : 0.02005958\n",
      "EPOCH 224 Train cost : 0.02023552 | val cost : 0.01957408\n",
      "EPOCH 228 Train cost : 0.01975593 | val cost : 0.01910765\n",
      "EPOCH 232 Train cost : 0.01929484 | val cost : 0.01865928\n",
      "EPOCH 236 Train cost : 0.01885126 | val cost : 0.01822798\n",
      "EPOCH 240 Train cost : 0.01842427 | val cost : 0.01781287\n",
      "EPOCH 244 Train cost : 0.018013 | val cost : 0.0174131\n",
      "EPOCH 248 Train cost : 0.01761667 | val cost : 0.01702788\n",
      "EPOCH 252 Train cost : 0.01723451 | val cost : 0.01665649\n",
      "EPOCH 256 Train cost : 0.01686583 | val cost : 0.01629824\n",
      "EPOCH 260 Train cost : 0.01650996 | val cost : 0.01595248\n",
      "EPOCH 264 Train cost : 0.0161663 | val cost : 0.01561861\n",
      "EPOCH 268 Train cost : 0.01583425 | val cost : 0.01529608\n",
      "EPOCH 272 Train cost : 0.01551328 | val cost : 0.01498433\n",
      "EPOCH 276 Train cost : 0.01520288 | val cost : 0.01468288\n",
      "EPOCH 280 Train cost : 0.01490255 | val cost : 0.01439125\n",
      "EPOCH 284 Train cost : 0.01461186 | val cost : 0.014109\n",
      "EPOCH 288 Train cost : 0.01433036 | val cost : 0.01383572\n",
      "EPOCH 292 Train cost : 0.01405767 | val cost : 0.013571\n",
      "EPOCH 296 Train cost : 0.01379339 | val cost : 0.01331449\n",
      "EPOCH 300 Train cost : 0.01353716 | val cost : 0.01306581\n",
      "EPOCH 304 Train cost : 0.01328866 | val cost : 0.01282465\n",
      "EPOCH 308 Train cost : 0.01304754 | val cost : 0.01259069\n",
      "EPOCH 312 Train cost : 0.01281352 | val cost : 0.01236363\n",
      "EPOCH 316 Train cost : 0.01258629 | val cost : 0.01214319\n",
      "EPOCH 320 Train cost : 0.01236559 | val cost : 0.0119291\n",
      "EPOCH 324 Train cost : 0.01215115 | val cost : 0.01172111\n",
      "EPOCH 328 Train cost : 0.01194274 | val cost : 0.01151898\n",
      "EPOCH 332 Train cost : 0.01174011 | val cost : 0.01132248\n",
      "EPOCH 336 Train cost : 0.01154304 | val cost : 0.01113139\n",
      "EPOCH 340 Train cost : 0.01135132 | val cost : 0.0109455\n",
      "EPOCH 344 Train cost : 0.01116476 | val cost : 0.01076462\n",
      "EPOCH 348 Train cost : 0.01098315 | val cost : 0.01058857\n",
      "EPOCH 352 Train cost : 0.01080631 | val cost : 0.01041716\n",
      "EPOCH 356 Train cost : 0.01063407 | val cost : 0.01025022\n",
      "EPOCH 360 Train cost : 0.01046627 | val cost : 0.0100876\n",
      "EPOCH 364 Train cost : 0.01030275 | val cost : 0.00992913\n",
      "EPOCH 368 Train cost : 0.01014335 | val cost : 0.00977468\n",
      "EPOCH 372 Train cost : 0.00998793 | val cost : 0.00962409\n",
      "EPOCH 376 Train cost : 0.00983635 | val cost : 0.00947724\n",
      "EPOCH 380 Train cost : 0.00968848 | val cost : 0.009334\n",
      "EPOCH 384 Train cost : 0.0095442 | val cost : 0.00919424\n",
      "EPOCH 388 Train cost : 0.00940338 | val cost : 0.00905785\n",
      "EPOCH 392 Train cost : 0.00926591 | val cost : 0.00892472\n",
      "EPOCH 396 Train cost : 0.00913168 | val cost : 0.00879473\n"
     ]
    },
    {
     "data": {
      "image/png": "[encoded data removed]",
      "text/plain": [
       "<Figure size 432x288 with 1 Axes>"
      ]
     },
     "metadata": {
      "needs_background": "light"
     },
     "output_type": "display_data"
    }
   ],
   "source": [
    "neural_network.train([X_train.shape[0], y_train.shape[0]], iterations=400, learning_rate=0.1, adam_optimizer=True)"
   ]
  },
  {
   "cell_type": "code",
   "execution_count": 16,
   "metadata": {},
   "outputs": [],
   "source": [
    "y_pred = neural_network.predict(X_val)"
   ]
  },
  {
   "cell_type": "code",
   "execution_count": 17,
   "metadata": {},
   "outputs": [
    {
     "data": {
      "text/plain": [
       "array([4, 5, 4, 0, 7, 1, 2, 1, 6, 1, 0, 3, 3, 1, 2, 7, 1, 3, 2, 1, 1, 1,\n",
       "       5, 6, 5, 5, 4, 1, 3, 2, 1, 5, 3, 7, 7, 1, 4, 6, 7, 6, 6, 7, 6, 7,\n",
       "       6, 4, 4, 6, 0, 0, 0, 0, 5, 3, 7, 0, 7, 3, 6, 1, 4, 6, 0, 0, 2, 1,\n",
       "       5, 1, 1, 5, 6, 0, 0, 3, 4, 1, 0, 6, 6, 1, 5, 2, 4, 1, 2, 4, 2, 5,\n",
       "       5, 0, 6, 2, 6, 7, 5, 7, 0, 7, 0, 2, 0, 5, 0, 5, 2, 5, 5, 1, 3, 6,\n",
       "       0, 4, 5, 3, 2, 6, 0, 2, 2, 7, 0, 1, 0, 0, 2, 6, 5, 2, 0, 7, 7, 1,\n",
       "       6, 7, 0, 7, 4, 7, 6, 2, 2, 1, 2, 4, 7, 7, 3, 4, 4, 6, 0, 3, 4, 5,\n",
       "       3, 5, 1, 4, 1, 4, 3, 2, 3, 4, 3, 0, 5, 3, 4, 1, 3, 7, 0, 1, 1, 3,\n",
       "       3, 1, 7, 5, 4, 5, 7, 1, 5, 4, 5, 1, 5, 5, 2, 0, 4, 1, 5, 3, 5, 1,\n",
       "       0, 6, 7, 1, 5, 6, 6, 2, 0, 6, 1, 4, 3, 5, 5, 3, 2, 0, 1, 2, 6, 6,\n",
       "       0, 0, 5, 0, 3, 5, 3, 4, 5, 0, 7, 7, 4, 2, 2, 6, 4, 2, 5, 6, 7, 0,\n",
       "       4, 0, 4, 4, 3, 6, 1, 4, 3, 6, 0, 1, 7, 3, 2, 5, 7, 5, 1, 0, 3, 4,\n",
       "       1, 1, 3, 6, 2, 2, 7, 1, 3, 3, 0, 7, 5, 0, 2, 6, 5, 7, 6, 6, 4, 0,\n",
       "       4, 1, 4, 2, 5, 5, 6, 1, 6, 1, 0, 6, 5, 2, 4, 5, 0, 7, 7, 7, 2, 5,\n",
       "       6, 6, 1, 0, 5, 1, 4, 6, 5, 6, 4, 2, 5, 3, 3, 3, 4, 0, 6, 0, 7, 1,\n",
       "       3, 6, 0, 2, 0, 4, 7, 2, 2, 7, 2, 1, 1, 3, 3, 6, 4, 0, 6, 0, 2, 6,\n",
       "       4, 7, 0, 5, 1, 2, 3, 6, 0, 7, 3, 0, 5, 5, 4, 4, 0, 0, 1, 1, 0, 1,\n",
       "       6, 3, 7, 7, 7, 1, 6, 6, 4, 0, 1, 7, 2, 0, 0, 1, 1, 3, 5, 7, 1, 4,\n",
       "       6, 5, 2, 6, 2, 4, 2, 0, 3, 2, 3, 2, 6, 3, 7, 3, 0, 2, 1, 6, 0, 5,\n",
       "       3, 6, 3, 3, 0, 4, 5, 6, 4, 0, 1, 1, 0, 2, 4, 5, 7, 0, 2, 0, 5, 4,\n",
       "       3, 7, 4, 4, 0, 3, 6, 2, 5, 3, 3, 6, 1, 4, 0, 1, 2, 0, 0, 2, 2, 2,\n",
       "       0, 7, 3, 5, 2, 6, 7, 6, 2, 4, 4, 5, 6, 0, 7, 4, 5, 5, 1, 7, 7, 2,\n",
       "       4, 5, 6, 5, 0, 5, 2, 3, 5, 4, 4, 7, 3, 4, 2, 0])"
      ]
     },
     "execution_count": 17,
     "metadata": {},
     "output_type": "execute_result"
    }
   ],
   "source": [
    "np.argmax(y_pred, axis = 0)"
   ]
  },
  {
   "cell_type": "code",
   "execution_count": 12,
   "metadata": {},
   "outputs": [
    {
     "data": {
      "text/plain": [
       "array([4, 5, 4, 0, 7, 1, 2, 1, 6, 1, 0, 3, 3, 1, 2, 7, 1, 3, 2, 1, 1, 1,\n",
       "       5, 6, 5, 5, 4, 1, 3, 2, 1, 5, 3, 7, 7, 1, 4, 6, 7, 6, 6, 7, 6, 7,\n",
       "       6, 4, 4, 6, 0, 0, 0, 0, 5, 3, 7, 0, 7, 3, 6, 1, 4, 6, 0, 0, 2, 1,\n",
       "       5, 1, 1, 5, 6, 0, 0, 3, 4, 1, 0, 6, 6, 1, 5, 2, 4, 1, 2, 4, 2, 5,\n",
       "       5, 0, 6, 2, 6, 7, 5, 7, 0, 7, 0, 2, 0, 5, 0, 5, 2, 5, 5, 1, 3, 6,\n",
       "       0, 4, 5, 3, 2, 6, 0, 2, 2, 7, 0, 1, 0, 0, 2, 6, 5, 2, 0, 7, 7, 1,\n",
       "       6, 7, 0, 7, 4, 7, 6, 2, 2, 1, 2, 4, 7, 7, 3, 4, 4, 6, 0, 3, 4, 5,\n",
       "       3, 5, 1, 4, 1, 4, 3, 2, 3, 4, 3, 0, 5, 3, 4, 1, 3, 7, 0, 1, 1, 3,\n",
       "       3, 1, 7, 5, 4, 5, 7, 1, 5, 4, 5, 1, 5, 5, 2, 0, 4, 1, 5, 3, 5, 1,\n",
       "       0, 6, 7, 1, 5, 6, 6, 2, 0, 6, 1, 4, 3, 5, 5, 3, 2, 0, 1, 2, 6, 6,\n",
       "       0, 0, 5, 0, 3, 5, 3, 4, 5, 0, 7, 7, 4, 2, 2, 6, 4, 2, 5, 6, 7, 0,\n",
       "       4, 0, 4, 4, 3, 6, 1, 4, 3, 6, 0, 1, 7, 3, 2, 5, 7, 5, 1, 0, 3, 4,\n",
       "       1, 1, 3, 6, 2, 2, 7, 1, 3, 3, 0, 7, 5, 0, 2, 6, 5, 7, 6, 6, 4, 0,\n",
       "       4, 1, 4, 2, 5, 5, 6, 1, 6, 1, 0, 6, 5, 2, 4, 5, 0, 7, 7, 7, 2, 5,\n",
       "       6, 6, 1, 0, 5, 1, 4, 6, 5, 6, 4, 2, 5, 3, 3, 3, 4, 0, 6, 0, 7, 1,\n",
       "       3, 6, 0, 2, 0, 4, 7, 2, 2, 7, 2, 1, 1, 3, 3, 6, 4, 0, 6, 0, 2, 6,\n",
       "       4, 7, 0, 5, 1, 2, 3, 6, 0, 7, 3, 0, 5, 5, 4, 4, 0, 0, 1, 1, 0, 1,\n",
       "       6, 3, 7, 7, 7, 1, 6, 6, 4, 0, 1, 7, 2, 0, 0, 1, 1, 3, 5, 7, 1, 4,\n",
       "       6, 5, 2, 6, 2, 4, 2, 0, 3, 2, 3, 2, 6, 3, 7, 3, 0, 2, 1, 6, 0, 5,\n",
       "       3, 6, 3, 3, 0, 4, 5, 6, 4, 0, 1, 1, 0, 2, 4, 5, 7, 0, 2, 0, 5, 4,\n",
       "       3, 7, 4, 4, 0, 3, 6, 2, 5, 3, 3, 6, 1, 4, 0, 1, 2, 0, 0, 2, 2, 2,\n",
       "       0, 7, 3, 5, 2, 6, 7, 6, 2, 4, 4, 5, 6, 0, 7, 4, 5, 5, 1, 7, 7, 2,\n",
       "       4, 5, 6, 5, 0, 5, 2, 3, 5, 4, 4, 7, 3, 4, 2, 0])"
      ]
     },
     "execution_count": 12,
     "metadata": {},
     "output_type": "execute_result"
    }
   ],
   "source": [
    "np.argmax(y_val, axis = 0)"
   ]
  },
  {
   "cell_type": "code",
   "execution_count": 13,
   "metadata": {},
   "outputs": [
    {
     "data": {
      "text/plain": [
       "1.0"
      ]
     },
     "execution_count": 13,
     "metadata": {},
     "output_type": "execute_result"
    }
   ],
   "source": [
    "accuracy_score(np.argmax(y_val, axis = 0), np.argmax(y_pred, axis = 0))"
   ]
  }
 ],
 "metadata": {
  "kernelspec": {
   "display_name": "Python 3",
   "language": "python",
   "name": "python3"
  },
  "language_info": {
   "codemirror_mode": {
    "name": "ipython",
    "version": 3
   },
   "file_extension": ".py",
   "mimetype": "text/x-python",
   "name": "python",
   "nbconvert_exporter": "python",
   "pygments_lexer": "ipython3",
   "version": "3.7.5"
  }
 },
 "nbformat": 4,
 "nbformat_minor": 2
}
