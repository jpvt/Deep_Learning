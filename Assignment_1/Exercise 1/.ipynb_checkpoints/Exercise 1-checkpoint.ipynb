{
 "cells": [
  {
   "cell_type": "code",
   "execution_count": 1,
   "metadata": {},
   "outputs": [],
   "source": [
    "import numpy as np\n",
    "from data_generator import generate_data\n",
    "from tail_scratch_nn import DNN\n",
    "from sklearn.metrics import accuracy_score"
   ]
  },
  {
   "cell_type": "code",
   "execution_count": 2,
   "metadata": {},
   "outputs": [],
   "source": [
    "X_train, X_val, y_train, y_val = generate_data(5000)"
   ]
  },
  {
   "cell_type": "code",
   "execution_count": 3,
   "metadata": {},
   "outputs": [],
   "source": [
    "neural_network = DNN()"
   ]
  },
  {
   "cell_type": "code",
   "execution_count": 4,
   "metadata": {},
   "outputs": [],
   "source": [
    "neural_network.fit(X_train, y_train, X_val, y_val)"
   ]
  },
  {
   "cell_type": "code",
   "execution_count": 5,
   "metadata": {
    "scrolled": false
   },
   "outputs": [
    {
     "name": "stdout",
     "output_type": "stream",
     "text": [
      "EPOCH 0 Train cost : 2.08668508 | val cost : 2.08725611\n",
      "EPOCH 4 Train cost : 1.56430011 | val cost : 1.55546166\n",
      "EPOCH 8 Train cost : 1.16729224 | val cost : 1.16341747\n",
      "EPOCH 12 Train cost : 0.87368718 | val cost : 0.86707915\n",
      "EPOCH 16 Train cost : 0.66115208 | val cost : 0.65536016\n",
      "EPOCH 20 Train cost : 0.5074078 | val cost : 0.50438991\n",
      "EPOCH 24 Train cost : 0.39729667 | val cost : 0.3949513\n",
      "EPOCH 28 Train cost : 0.31893523 | val cost : 0.31682305\n",
      "EPOCH 32 Train cost : 0.26228499 | val cost : 0.26118235\n",
      "EPOCH 36 Train cost : 0.22064608 | val cost : 0.22024601\n",
      "EPOCH 40 Train cost : 0.18919116 | val cost : 0.1887647\n",
      "EPOCH 44 Train cost : 0.16502412 | val cost : 0.16445595\n",
      "EPOCH 48 Train cost : 0.14610602 | val cost : 0.14559905\n",
      "EPOCH 52 Train cost : 0.13102084 | val cost : 0.13061218\n",
      "EPOCH 56 Train cost : 0.11875738 | val cost : 0.11836253\n",
      "EPOCH 60 Train cost : 0.108602 | val cost : 0.10819799\n",
      "EPOCH 64 Train cost : 0.10004194 | val cost : 0.09966547\n",
      "EPOCH 68 Train cost : 0.09272357 | val cost : 0.0923927\n",
      "EPOCH 72 Train cost : 0.08638523 | val cost : 0.08608693\n",
      "EPOCH 76 Train cost : 0.08083322 | val cost : 0.08055781\n",
      "EPOCH 80 Train cost : 0.07592361 | val cost : 0.07567576\n",
      "EPOCH 84 Train cost : 0.07154391 | val cost : 0.07132588\n",
      "EPOCH 88 Train cost : 0.06760781 | val cost : 0.0674101\n",
      "EPOCH 92 Train cost : 0.06404747 | val cost : 0.06385785\n",
      "EPOCH 96 Train cost : 0.06080912 | val cost : 0.06062324\n",
      "EPOCH 100 Train cost : 0.05784939 | val cost : 0.05767014\n",
      "EPOCH 104 Train cost : 0.0551329 | val cost : 0.05496309\n",
      "EPOCH 108 Train cost : 0.05263048 | val cost : 0.0524689\n",
      "EPOCH 112 Train cost : 0.05031763 | val cost : 0.05016094\n",
      "EPOCH 116 Train cost : 0.04817368 | val cost : 0.04801984\n",
      "EPOCH 120 Train cost : 0.04618099 | val cost : 0.04603023\n",
      "EPOCH 124 Train cost : 0.04432437 | val cost : 0.0441778\n",
      "EPOCH 128 Train cost : 0.04259069 | val cost : 0.04244883\n",
      "EPOCH 132 Train cost : 0.04096849 | val cost : 0.04083104\n",
      "EPOCH 136 Train cost : 0.0394477 | val cost : 0.0393141\n",
      "EPOCH 140 Train cost : 0.03801945 | val cost : 0.03788938\n",
      "EPOCH 144 Train cost : 0.03667591 | val cost : 0.03654926\n",
      "EPOCH 148 Train cost : 0.03541006 | val cost : 0.03528676\n",
      "EPOCH 152 Train cost : 0.03421566 | val cost : 0.03409553\n",
      "EPOCH 156 Train cost : 0.03308711 | val cost : 0.03296991\n",
      "EPOCH 160 Train cost : 0.03201938 | val cost : 0.03190492\n",
      "EPOCH 164 Train cost : 0.03100792 | val cost : 0.03089609\n",
      "EPOCH 168 Train cost : 0.03004863 | val cost : 0.02993932\n",
      "EPOCH 172 Train cost : 0.02913777 | val cost : 0.02903089\n",
      "EPOCH 176 Train cost : 0.02827197 | val cost : 0.02816736\n",
      "EPOCH 180 Train cost : 0.02744813 | val cost : 0.02734565\n",
      "EPOCH 184 Train cost : 0.02666345 | val cost : 0.02656298\n",
      "EPOCH 188 Train cost : 0.02591534 | val cost : 0.02581681\n",
      "EPOCH 192 Train cost : 0.02520146 | val cost : 0.0251048\n",
      "EPOCH 196 Train cost : 0.02451962 | val cost : 0.02442478\n",
      "EPOCH 200 Train cost : 0.02386785 | val cost : 0.02377476\n",
      "EPOCH 204 Train cost : 0.0232443 | val cost : 0.02315289\n",
      "EPOCH 208 Train cost : 0.0226473 | val cost : 0.02255749\n",
      "EPOCH 212 Train cost : 0.02207526 | val cost : 0.021987\n",
      "EPOCH 216 Train cost : 0.02152675 | val cost : 0.02143999\n",
      "EPOCH 220 Train cost : 0.02100043 | val cost : 0.02091512\n",
      "EPOCH 224 Train cost : 0.02049506 | val cost : 0.02041115\n",
      "EPOCH 228 Train cost : 0.02000948 | val cost : 0.01992693\n",
      "EPOCH 232 Train cost : 0.01954262 | val cost : 0.01946138\n",
      "EPOCH 236 Train cost : 0.01909348 | val cost : 0.01901351\n",
      "EPOCH 240 Train cost : 0.01866112 | val cost : 0.01858239\n",
      "EPOCH 244 Train cost : 0.01824469 | val cost : 0.01816716\n",
      "EPOCH 248 Train cost : 0.01784337 | val cost : 0.01776699\n",
      "EPOCH 252 Train cost : 0.0174564 | val cost : 0.01738115\n",
      "EPOCH 256 Train cost : 0.01708306 | val cost : 0.0170089\n",
      "EPOCH 260 Train cost : 0.0167227 | val cost : 0.01664961\n",
      "EPOCH 264 Train cost : 0.01637468 | val cost : 0.01630263\n",
      "EPOCH 268 Train cost : 0.01603843 | val cost : 0.01596738\n",
      "EPOCH 272 Train cost : 0.01571339 | val cost : 0.01564332\n",
      "EPOCH 276 Train cost : 0.01539905 | val cost : 0.01532992\n",
      "EPOCH 280 Train cost : 0.01509491 | val cost : 0.01502671\n",
      "EPOCH 284 Train cost : 0.01480052 | val cost : 0.01473322\n",
      "EPOCH 288 Train cost : 0.01451544 | val cost : 0.01444903\n",
      "EPOCH 292 Train cost : 0.01423927 | val cost : 0.01417371\n",
      "EPOCH 296 Train cost : 0.01397161 | val cost : 0.0139069\n",
      "EPOCH 300 Train cost : 0.01371212 | val cost : 0.01364822\n",
      "EPOCH 304 Train cost : 0.01346043 | val cost : 0.01339733\n",
      "EPOCH 308 Train cost : 0.01321623 | val cost : 0.01315391\n",
      "EPOCH 312 Train cost : 0.01297921 | val cost : 0.01291765\n",
      "EPOCH 316 Train cost : 0.01274907 | val cost : 0.01268826\n",
      "EPOCH 320 Train cost : 0.01252554 | val cost : 0.01246545\n",
      "EPOCH 324 Train cost : 0.01230835 | val cost : 0.01224898\n",
      "EPOCH 328 Train cost : 0.01209726 | val cost : 0.01203858\n",
      "EPOCH 332 Train cost : 0.01189203 | val cost : 0.01183402\n",
      "EPOCH 336 Train cost : 0.01169242 | val cost : 0.01163509\n",
      "EPOCH 340 Train cost : 0.01149824 | val cost : 0.01144155\n",
      "EPOCH 344 Train cost : 0.01130927 | val cost : 0.01125322\n",
      "EPOCH 348 Train cost : 0.01112532 | val cost : 0.01106989\n",
      "EPOCH 352 Train cost : 0.0109462 | val cost : 0.01089138\n",
      "EPOCH 356 Train cost : 0.01077174 | val cost : 0.01071752\n",
      "EPOCH 360 Train cost : 0.01060177 | val cost : 0.01054814\n",
      "EPOCH 364 Train cost : 0.01043613 | val cost : 0.01038308\n",
      "EPOCH 368 Train cost : 0.01027467 | val cost : 0.01022218\n",
      "EPOCH 372 Train cost : 0.01011724 | val cost : 0.0100653\n",
      "EPOCH 376 Train cost : 0.0099637 | val cost : 0.00991231\n",
      "EPOCH 380 Train cost : 0.00981392 | val cost : 0.00976306\n",
      "EPOCH 384 Train cost : 0.00966777 | val cost : 0.00961743\n",
      "EPOCH 388 Train cost : 0.00952513 | val cost : 0.0094753\n",
      "EPOCH 392 Train cost : 0.00938587 | val cost : 0.00933655\n",
      "EPOCH 396 Train cost : 0.0092499 | val cost : 0.00920107\n"
     ]
    },
    {
     "data": {
      "image/png": "[encoded data removed]",
      "text/plain": [
       "<Figure size 432x288 with 1 Axes>"
      ]
     },
     "metadata": {
      "needs_background": "light"
     },
     "output_type": "display_data"
    }
   ],
   "source": [
    "neural_network.train([X_train.shape[0], y_train.shape[0]], iterations=400, learning_rate=0.1, adam_optimizer=True)"
   ]
  },
  {
   "cell_type": "code",
   "execution_count": 6,
   "metadata": {},
   "outputs": [],
   "source": [
    "y_pred = neural_network.predict(X_val)"
   ]
  },
  {
   "cell_type": "code",
   "execution_count": 7,
   "metadata": {},
   "outputs": [
    {
     "data": {
      "text/plain": [
       "array([4, 2, 4, 7, 3, 4, 6, 0, 1, 3, 2, 3, 3, 7, 2, 5, 1, 0, 7, 5, 0, 0,\n",
       "       2, 3, 3, 0, 3, 5, 0, 3, 3, 4, 0, 4, 7, 0, 5, 2, 6, 5, 3, 4, 7, 3,\n",
       "       1, 7, 1, 0, 5, 5, 0, 4, 1, 0, 2, 3, 1, 0, 3, 4, 7, 5, 4, 6, 7, 6,\n",
       "       5, 3, 2, 0, 2, 4, 4, 4, 6, 5, 6, 1, 6, 2, 2, 4, 5, 6, 0, 2, 5, 5,\n",
       "       3, 4, 4, 0, 3, 7, 7, 0, 5, 2, 7, 5, 6, 4, 4, 7, 6, 7, 0, 2, 5, 0,\n",
       "       6, 2, 0, 4, 3, 7, 0, 5, 4, 4, 3, 1, 5, 4, 2, 0, 0, 5, 4, 6, 7, 7,\n",
       "       5, 6, 4, 1, 2, 1, 3, 4, 2, 6, 1, 3, 3, 5, 7, 7, 7, 6, 2, 2, 5, 1,\n",
       "       3, 0, 7, 6, 7, 6, 5, 5, 7, 0, 7, 0, 0, 1, 2, 7, 6, 3, 4, 6, 5, 3,\n",
       "       2, 5, 3, 1, 6, 3, 5, 2, 4, 6, 5, 2, 3, 7, 6, 7, 7, 2, 2, 4, 1, 5,\n",
       "       4, 4, 3, 6, 1, 2, 7, 7, 2, 7, 5, 2, 7, 3, 3, 0, 6, 6, 1, 6, 1, 1,\n",
       "       5, 0, 4, 4, 4, 6, 0, 0, 6, 4, 6, 3, 7, 1, 6, 5, 7, 5, 6, 1, 3, 6,\n",
       "       2, 5, 5, 6, 6, 1, 5, 0, 0, 5, 2, 6, 1, 4, 3, 3, 3, 5, 1, 5, 2, 3,\n",
       "       3, 0, 4, 5, 3, 7, 4, 0, 3, 6, 0, 1, 7, 3, 0, 5, 3, 1, 2, 4, 7, 2,\n",
       "       5, 1, 0, 7, 6, 5, 4, 5, 1, 6, 4, 0, 5, 6, 1, 4, 1, 1, 3, 7, 6, 3,\n",
       "       4, 3, 3, 4, 5, 5, 0, 0, 4, 3, 2, 5, 2, 1, 1, 6, 7, 4, 2, 4, 5, 5,\n",
       "       0, 6, 6, 2, 2, 3, 5, 2, 3, 5, 7, 7, 6, 2, 3, 1, 5, 3, 7, 4, 5, 3,\n",
       "       6, 0, 0, 3, 4, 3, 7, 2, 4, 2, 1, 3, 6, 7, 2, 5, 4, 0, 5, 4, 7, 2,\n",
       "       6, 2, 4, 5, 3, 6, 6, 4, 4, 3, 4, 3, 6, 7, 7, 3, 6, 3, 6, 5, 4, 1,\n",
       "       6, 1, 3, 7, 1, 2, 6, 6, 7, 7, 5, 0, 5, 7, 1, 7, 0, 6, 4, 5, 5, 5,\n",
       "       1, 7, 1, 7, 6, 4, 6, 5, 0, 3, 2, 1, 6, 5, 5, 5, 3, 7, 7, 1, 6, 0,\n",
       "       2, 3, 5, 0, 1, 6, 5, 6, 4, 0, 2, 7, 4, 1, 2, 6, 0, 4, 0, 5, 2, 0,\n",
       "       0, 7, 4, 6, 0, 2, 1, 5, 7, 4, 1, 3, 7, 3, 6, 5, 3, 5, 5, 1, 2, 2,\n",
       "       6, 0, 7, 6, 3, 3, 1, 4, 6, 3, 1, 1, 3, 6, 6, 7])"
      ]
     },
     "execution_count": 7,
     "metadata": {},
     "output_type": "execute_result"
    }
   ],
   "source": [
    "np.argmax(y_pred, axis = 0)"
   ]
  },
  {
   "cell_type": "code",
   "execution_count": 8,
   "metadata": {},
   "outputs": [
    {
     "data": {
      "text/plain": [
       "array([4, 2, 4, 7, 3, 4, 6, 0, 1, 3, 2, 3, 3, 7, 2, 5, 1, 0, 7, 5, 0, 0,\n",
       "       2, 3, 3, 0, 3, 5, 0, 3, 3, 4, 0, 4, 7, 0, 5, 2, 6, 5, 3, 4, 7, 3,\n",
       "       1, 7, 1, 0, 5, 5, 0, 4, 1, 0, 2, 3, 1, 0, 3, 4, 7, 5, 4, 6, 7, 6,\n",
       "       5, 3, 2, 0, 2, 4, 4, 4, 6, 5, 6, 1, 6, 2, 2, 4, 5, 6, 0, 2, 5, 5,\n",
       "       3, 4, 4, 0, 3, 7, 7, 0, 5, 2, 7, 5, 6, 4, 4, 7, 6, 7, 0, 2, 5, 0,\n",
       "       6, 2, 0, 4, 3, 7, 0, 5, 4, 4, 3, 1, 5, 4, 2, 0, 0, 5, 4, 6, 7, 7,\n",
       "       5, 6, 4, 1, 2, 1, 3, 4, 2, 6, 1, 3, 3, 5, 7, 7, 7, 6, 2, 2, 5, 1,\n",
       "       3, 0, 7, 6, 7, 6, 5, 5, 7, 0, 7, 0, 0, 1, 2, 7, 6, 3, 4, 6, 5, 3,\n",
       "       2, 5, 3, 1, 6, 3, 5, 2, 4, 6, 5, 2, 3, 7, 6, 7, 7, 2, 2, 4, 1, 5,\n",
       "       4, 4, 3, 6, 1, 2, 7, 7, 2, 7, 5, 2, 7, 3, 3, 0, 6, 6, 1, 6, 1, 1,\n",
       "       5, 0, 4, 4, 4, 6, 0, 0, 6, 4, 6, 3, 7, 1, 6, 5, 7, 5, 6, 1, 3, 6,\n",
       "       2, 5, 5, 6, 6, 1, 5, 0, 0, 5, 2, 6, 1, 4, 3, 3, 3, 5, 1, 5, 2, 3,\n",
       "       3, 0, 4, 5, 3, 7, 4, 0, 3, 6, 0, 1, 7, 3, 0, 5, 3, 1, 2, 4, 7, 2,\n",
       "       5, 1, 0, 7, 6, 5, 4, 5, 1, 6, 4, 0, 5, 6, 1, 4, 1, 1, 3, 7, 6, 3,\n",
       "       4, 3, 3, 4, 5, 5, 0, 0, 4, 3, 2, 5, 2, 1, 1, 6, 7, 4, 2, 4, 5, 5,\n",
       "       0, 6, 6, 2, 2, 3, 5, 2, 3, 5, 7, 7, 6, 2, 3, 1, 5, 3, 7, 4, 5, 3,\n",
       "       6, 0, 0, 3, 4, 3, 7, 2, 4, 2, 1, 3, 6, 7, 2, 5, 4, 0, 5, 4, 7, 2,\n",
       "       6, 2, 4, 5, 3, 6, 6, 4, 4, 3, 4, 3, 6, 7, 7, 3, 6, 3, 6, 5, 4, 1,\n",
       "       6, 1, 3, 7, 1, 2, 6, 6, 7, 7, 5, 0, 5, 7, 1, 7, 0, 6, 4, 5, 5, 5,\n",
       "       1, 7, 1, 7, 6, 4, 6, 5, 0, 3, 2, 1, 6, 5, 5, 5, 3, 7, 7, 1, 6, 0,\n",
       "       2, 3, 5, 0, 1, 6, 5, 6, 4, 0, 2, 7, 4, 1, 2, 6, 0, 4, 0, 5, 2, 0,\n",
       "       0, 7, 4, 6, 0, 2, 1, 5, 7, 4, 1, 3, 7, 3, 6, 5, 3, 5, 5, 1, 2, 2,\n",
       "       6, 0, 7, 6, 3, 3, 1, 4, 6, 3, 1, 1, 3, 6, 6, 7])"
      ]
     },
     "execution_count": 8,
     "metadata": {},
     "output_type": "execute_result"
    }
   ],
   "source": [
    "np.argmax(y_val, axis = 0)"
   ]
  },
  {
   "cell_type": "code",
   "execution_count": 9,
   "metadata": {},
   "outputs": [
    {
     "data": {
      "text/plain": [
       "1.0"
      ]
     },
     "execution_count": 9,
     "metadata": {},
     "output_type": "execute_result"
    }
   ],
   "source": [
    "accuracy_score(np.argmax(y_val, axis = 0), np.argmax(y_pred, axis = 0))"
   ]
  }
 ],
 "metadata": {
  "kernelspec": {
   "display_name": "Python 3",
   "language": "python",
   "name": "python3"
  },
  "language_info": {
   "codemirror_mode": {
    "name": "ipython",
    "version": 3
   },
   "file_extension": ".py",
   "mimetype": "text/x-python",
   "name": "python",
   "nbconvert_exporter": "python",
   "pygments_lexer": "ipython3",
   "version": "3.7.5"
  }
 },
 "nbformat": 4,
 "nbformat_minor": 2
}
