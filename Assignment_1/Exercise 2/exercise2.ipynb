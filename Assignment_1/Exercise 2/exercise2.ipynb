{
 "cells": [
  {
   "cell_type": "markdown",
   "metadata": {},
   "source": [
    "# First Assignment - Exercise 2\n",
    "\n",
    "\n",
    "Implement a multilayer perceptron network and use it to approximate the two functions below. Then, compare the results with the exact curves. In the case of problem (b), show the average training error curve concerning the number of seasons and the average error curve with the validation set.\n",
    "\n",
    "- **(a)** the XOR logic function\n",
    "- **(b)** $f(x) = \\sin(\\pi x)/\\pi x, 0 < x \\le 4$\n",
    "\n",
    "\n",
    "**Hint:** Select a set of samples for each function (where x is the input and f (x) is the desired output - label). Then, split these samples into training and validation sets. Subsequently, train a multilayer perceptron so that it learns to approach the function from the training sample and tests with the validation set."
   ]
  },
  {
   "cell_type": "code",
   "execution_count": 1,
   "metadata": {},
   "outputs": [],
   "source": [
    "from tail_scratch_nn import DNN\n",
    "from sklearn.metrics import accuracy_score\n",
    "import numpy as np\n",
    "from data_generator import DataGenerator, f"
   ]
  },
  {
   "cell_type": "markdown",
   "metadata": {},
   "source": [
    "## Problem (a)"
   ]
  },
  {
   "cell_type": "code",
   "execution_count": 10,
   "metadata": {},
   "outputs": [
    {
     "name": "stdout",
     "output_type": "stream",
     "text": [
      "[0 0] => [1 0]\n",
      "[0 1] => [0 1]\n",
      "[1 0] => [0 1]\n",
      "[1 1] => [1 0]\n"
     ]
    }
   ],
   "source": [
    "generator =  DataGenerator()\n",
    "X_train, X_test, y_train, y_test = generator.generate_problem_A()"
   ]
  },
  {
   "cell_type": "code",
   "execution_count": 11,
   "metadata": {},
   "outputs": [],
   "source": [
    "neural_net = DNN()\n",
    "neural_net.fit(X_train.T, y_train.T, X_test.T, y_test.T,hidden = 'relu', output = 'softmax')"
   ]
  },
  {
   "cell_type": "code",
   "execution_count": 12,
   "metadata": {},
   "outputs": [
    {
     "data": {
      "text/plain": [
       "array([[0, 0, 1, 1],\n",
       "       [0, 1, 0, 1]])"
      ]
     },
     "execution_count": 12,
     "metadata": {},
     "output_type": "execute_result"
    }
   ],
   "source": [
    "X_train.T"
   ]
  },
  {
   "cell_type": "code",
   "execution_count": 13,
   "metadata": {},
   "outputs": [
    {
     "data": {
      "text/plain": [
       "array([[1, 0, 0, 1],\n",
       "       [0, 1, 1, 0]])"
      ]
     },
     "execution_count": 13,
     "metadata": {},
     "output_type": "execute_result"
    }
   ],
   "source": [
    "y_train.T"
   ]
  },
  {
   "cell_type": "code",
   "execution_count": 15,
   "metadata": {},
   "outputs": [
    {
     "name": "stdout",
     "output_type": "stream",
     "text": [
      "EPOCH 0 Train cost : 0.69313425 | val cost : 0.69313425\n",
      "EPOCH 3 Train cost : 0.69308504 | val cost : 0.69308504\n",
      "EPOCH 6 Train cost : 0.69297177 | val cost : 0.69297177\n",
      "EPOCH 9 Train cost : 0.69271859 | val cost : 0.69271859\n",
      "EPOCH 12 Train cost : 0.6924612 | val cost : 0.6924612\n",
      "EPOCH 15 Train cost : 0.69208655 | val cost : 0.69208655\n",
      "EPOCH 18 Train cost : 0.69146474 | val cost : 0.69146474\n",
      "EPOCH 21 Train cost : 0.69069798 | val cost : 0.69069798\n",
      "EPOCH 24 Train cost : 0.68967328 | val cost : 0.68967328\n",
      "EPOCH 27 Train cost : 0.68831301 | val cost : 0.68831301\n",
      "EPOCH 30 Train cost : 0.68637455 | val cost : 0.68637455\n",
      "EPOCH 33 Train cost : 0.68395883 | val cost : 0.68395883\n",
      "EPOCH 36 Train cost : 0.68072776 | val cost : 0.68072776\n",
      "EPOCH 39 Train cost : 0.67691858 | val cost : 0.67691858\n",
      "EPOCH 42 Train cost : 0.67258755 | val cost : 0.67258755\n",
      "EPOCH 45 Train cost : 0.66757592 | val cost : 0.66757592\n",
      "EPOCH 48 Train cost : 0.66192257 | val cost : 0.66192257\n",
      "EPOCH 51 Train cost : 0.65576744 | val cost : 0.65576744\n",
      "EPOCH 54 Train cost : 0.64904203 | val cost : 0.64904203\n",
      "EPOCH 57 Train cost : 0.64171542 | val cost : 0.64171542\n",
      "EPOCH 60 Train cost : 0.63414469 | val cost : 0.63414469\n",
      "EPOCH 63 Train cost : 0.62511159 | val cost : 0.62511159\n",
      "EPOCH 66 Train cost : 0.61546902 | val cost : 0.61546902\n",
      "EPOCH 69 Train cost : 0.60527575 | val cost : 0.60527575\n",
      "EPOCH 72 Train cost : 0.59470688 | val cost : 0.59470688\n",
      "EPOCH 75 Train cost : 0.58398412 | val cost : 0.58398412\n",
      "EPOCH 78 Train cost : 0.57309556 | val cost : 0.57309556\n",
      "EPOCH 81 Train cost : 0.56155537 | val cost : 0.56155537\n",
      "EPOCH 84 Train cost : 0.54958523 | val cost : 0.54958523\n",
      "EPOCH 87 Train cost : 0.53818979 | val cost : 0.53818979\n",
      "EPOCH 90 Train cost : 0.52595525 | val cost : 0.52595525\n",
      "EPOCH 93 Train cost : 0.5133497 | val cost : 0.5133497\n",
      "EPOCH 96 Train cost : 0.50146039 | val cost : 0.50146039\n",
      "EPOCH 99 Train cost : 0.4892182 | val cost : 0.4892182\n",
      "EPOCH 102 Train cost : 0.47635779 | val cost : 0.47635779\n",
      "EPOCH 105 Train cost : 0.46433723 | val cost : 0.46433723\n",
      "EPOCH 108 Train cost : 0.45226967 | val cost : 0.45226967\n",
      "EPOCH 111 Train cost : 0.4395391 | val cost : 0.4395391\n",
      "EPOCH 114 Train cost : 0.42777598 | val cost : 0.42777598\n",
      "EPOCH 117 Train cost : 0.41599339 | val cost : 0.41599339\n",
      "EPOCH 120 Train cost : 0.40370415 | val cost : 0.40370415\n",
      "EPOCH 123 Train cost : 0.39245208 | val cost : 0.39245208\n",
      "EPOCH 126 Train cost : 0.38110263 | val cost : 0.38110263\n",
      "EPOCH 129 Train cost : 0.36950347 | val cost : 0.36950347\n",
      "EPOCH 132 Train cost : 0.35896561 | val cost : 0.35896561\n",
      "EPOCH 135 Train cost : 0.34811008 | val cost : 0.34811008\n",
      "EPOCH 138 Train cost : 0.33742401 | val cost : 0.33742401\n",
      "EPOCH 141 Train cost : 0.32764131 | val cost : 0.32764131\n",
      "EPOCH 144 Train cost : 0.31736135 | val cost : 0.31736135\n",
      "EPOCH 147 Train cost : 0.30775802 | val cost : 0.30775802\n",
      "EPOCH 150 Train cost : 0.298589 | val cost : 0.298589\n",
      "EPOCH 153 Train cost : 0.28914499 | val cost : 0.28914499\n",
      "EPOCH 156 Train cost : 0.28061361 | val cost : 0.28061361\n",
      "EPOCH 159 Train cost : 0.27192899 | val cost : 0.27192899\n",
      "EPOCH 162 Train cost : 0.2635697 | val cost : 0.2635697\n",
      "EPOCH 165 Train cost : 0.25577798 | val cost : 0.25577798\n",
      "EPOCH 168 Train cost : 0.24777398 | val cost : 0.24777398\n",
      "EPOCH 171 Train cost : 0.24049821 | val cost : 0.24049821\n",
      "EPOCH 174 Train cost : 0.23317104 | val cost : 0.23317104\n",
      "EPOCH 177 Train cost : 0.2261672 | val cost : 0.2261672\n",
      "EPOCH 180 Train cost : 0.21954839 | val cost : 0.21954839\n",
      "EPOCH 183 Train cost : 0.21290392 | val cost : 0.21290392\n",
      "EPOCH 186 Train cost : 0.20678589 | val cost : 0.20678589\n",
      "EPOCH 189 Train cost : 0.20063727 | val cost : 0.20063727\n",
      "EPOCH 192 Train cost : 0.19486266 | val cost : 0.19486266\n",
      "EPOCH 195 Train cost : 0.18925636 | val cost : 0.18925636\n",
      "EPOCH 198 Train cost : 0.18380241 | val cost : 0.18380241\n",
      "EPOCH 201 Train cost : 0.17864844 | val cost : 0.17864844\n",
      "EPOCH 204 Train cost : 0.17357203 | val cost : 0.17357203\n",
      "EPOCH 207 Train cost : 0.1687589 | val cost : 0.1687589\n",
      "EPOCH 210 Train cost : 0.16408961 | val cost : 0.16408961\n",
      "EPOCH 213 Train cost : 0.15957426 | val cost : 0.15957426\n",
      "EPOCH 216 Train cost : 0.15526078 | val cost : 0.15526078\n",
      "EPOCH 219 Train cost : 0.15106728 | val cost : 0.15106728\n",
      "EPOCH 222 Train cost : 0.1470365 | val cost : 0.1470365\n",
      "EPOCH 225 Train cost : 0.14316049 | val cost : 0.14316049\n",
      "EPOCH 228 Train cost : 0.13940439 | val cost : 0.13940439\n",
      "EPOCH 231 Train cost : 0.13578941 | val cost : 0.13578941\n",
      "EPOCH 234 Train cost : 0.13230744 | val cost : 0.13230744\n",
      "EPOCH 237 Train cost : 0.12893882 | val cost : 0.12893882\n",
      "EPOCH 240 Train cost : 0.12568906 | val cost : 0.12568906\n",
      "EPOCH 243 Train cost : 0.12255693 | val cost : 0.12255693\n",
      "EPOCH 246 Train cost : 0.11953022 | val cost : 0.11953022\n",
      "EPOCH 249 Train cost : 0.11660489 | val cost : 0.11660489\n",
      "EPOCH 252 Train cost : 0.1137812 | val cost : 0.1137812\n",
      "EPOCH 255 Train cost : 0.11105437 | val cost : 0.11105437\n",
      "EPOCH 258 Train cost : 0.10841802 | val cost : 0.10841802\n",
      "EPOCH 261 Train cost : 0.10586878 | val cost : 0.10586878\n",
      "EPOCH 264 Train cost : 0.10340458 | val cost : 0.10340458\n",
      "EPOCH 267 Train cost : 0.10102221 | val cost : 0.10102221\n",
      "EPOCH 270 Train cost : 0.09871767 | val cost : 0.09871767\n",
      "EPOCH 273 Train cost : 0.09648747 | val cost : 0.09648747\n",
      "EPOCH 276 Train cost : 0.0943289 | val cost : 0.0943289\n",
      "EPOCH 279 Train cost : 0.09223947 | val cost : 0.09223947\n",
      "EPOCH 282 Train cost : 0.09021654 | val cost : 0.09021654\n",
      "EPOCH 285 Train cost : 0.08825737 | val cost : 0.08825737\n",
      "EPOCH 288 Train cost : 0.08635936 | val cost : 0.08635936\n",
      "EPOCH 291 Train cost : 0.08452011 | val cost : 0.08452011\n",
      "EPOCH 294 Train cost : 0.08273739 | val cost : 0.08273739\n",
      "EPOCH 297 Train cost : 0.08100908 | val cost : 0.08100908\n"
     ]
    },
    {
     "data": {
      "image/png": "[encoded data removed]",
      "text/plain": [
       "<Figure size 432x288 with 1 Axes>"
      ]
     },
     "metadata": {
      "needs_background": "light"
     },
     "output_type": "display_data"
    }
   ],
   "source": [
    "N_ENTRADA = 2\n",
    "N_SAIDA = 2\n",
    "\n",
    "neural_net.train([N_ENTRADA,10, N_SAIDA], learning_rate=0.01, iterations=300, adam_optimizer=True)"
   ]
  },
  {
   "cell_type": "code",
   "execution_count": 16,
   "metadata": {},
   "outputs": [
    {
     "data": {
      "text/plain": [
       "array([0, 1, 1, 0])"
      ]
     },
     "execution_count": 16,
     "metadata": {},
     "output_type": "execute_result"
    }
   ],
   "source": [
    "y_pred = neural_net.predict(X_test.T).T\n",
    "np.argmax(y_pred, axis = 1)"
   ]
  },
  {
   "cell_type": "code",
   "execution_count": 17,
   "metadata": {},
   "outputs": [
    {
     "data": {
      "text/plain": [
       "array([0, 1, 1, 0])"
      ]
     },
     "execution_count": 17,
     "metadata": {},
     "output_type": "execute_result"
    }
   ],
   "source": [
    "np.argmax(y_test, axis = 1)"
   ]
  },
  {
   "cell_type": "code",
   "execution_count": 18,
   "metadata": {},
   "outputs": [
    {
     "data": {
      "text/plain": [
       "1.0"
      ]
     },
     "execution_count": 18,
     "metadata": {},
     "output_type": "execute_result"
    }
   ],
   "source": [
    "accuracy_score(np.argmax(y_pred, axis = 1), np.argmax(y_test, axis = 1))"
   ]
  },
  {
   "cell_type": "code",
   "execution_count": null,
   "metadata": {},
   "outputs": [],
   "source": []
  }
 ],
 "metadata": {
  "kernelspec": {
   "display_name": "Python 3",
   "language": "python",
   "name": "python3"
  },
  "language_info": {
   "codemirror_mode": {
    "name": "ipython",
    "version": 3
   },
   "file_extension": ".py",
   "mimetype": "text/x-python",
   "name": "python",
   "nbconvert_exporter": "python",
   "pygments_lexer": "ipython3",
   "version": "3.7.6"
  }
 },
 "nbformat": 4,
 "nbformat_minor": 4
}
